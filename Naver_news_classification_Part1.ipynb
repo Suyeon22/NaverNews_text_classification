{
 "cells": [
  {
   "cell_type": "markdown",
   "metadata": {},
   "source": [
    "# 뉴스 카테고리 분류하기"
   ]
  },
  {
   "cell_type": "markdown",
   "metadata": {},
   "source": [
    "뉴스 기사 본문을 크롤링하여 가져 왔다면, 기사 본문 텍스트 데이터를 임베딩할 차례입니다.  \n",
    "형태소 단위로 임베딩할 것이기 때문에 전처리 과정이 필요합니다.    \n",
    "전처리 과정이 끝나면 doc2vec을 통해 코퍼스를 임베딩 하고, 그 후에 분류를 진행합니다. "
   ]
  },
  {
   "cell_type": "markdown",
   "metadata": {},
   "source": [
    "> 순서\n",
    "1. 기사 본문 토큰화& POS 태깅& 의미있는 형태소만 추출\n",
    "2. 임베딩 : word2vec과 doc2vec을 적용해본다.   \n",
    "3. Doc2vec 모델 훈련시키기 - DM,DBOW\n",
    "4. 가장 성능이 좋은 Doc2Vec 모델 선택\n",
    "5. 임베딩 결과와 tensorflow를 활용하여 분류"
   ]
  },
  {
   "cell_type": "code",
   "execution_count": 1,
   "metadata": {
    "collapsed": true
   },
   "outputs": [],
   "source": [
    "import konlpy\n",
    "import csv\n",
    "import pandas as pd\n",
    "from pandas import DataFrame as df\n",
    "import numpy as np\n",
    "from pprint import pprint\n",
    "from konlpy.tag import Twitter\n",
    "twitter = Twitter()\n",
    "from gensim.models import doc2vec\n",
    "from gensim.models.word2vec import Word2Vec\n",
    "import pickle"
   ]
  },
  {
   "cell_type": "markdown",
   "metadata": {},
   "source": [
    "## Data import\n",
    "#### 네이버 뉴스기사 데이터 불러오기\n",
    "R로 text 파일 합치고, 카테고리 100~105 에서 0~5 로 바꾸었습니다. ( NewsData.csv 파일)   \n",
    "> #### 변수 설명\n",
    "* ID : 0~29 , 해당 카테고리 내에서 기사 ID\n",
    "* Category : 0-5, 총 6개 카테고리   \n",
    "    정치(0), 경제(1), 사회(2), 생활/문화(3), 세계(4), IT/과학(5)\n",
    "* Week : 2017년 1월 첫째 주(106) ~ 2018년 1월 셋째 주(119) / **55 Weeks / 9,696 개 기사**    \n",
    "    (17년 1~5월은 카테고리당 30개가 아니라 29개입니다.)\n",
    "* Title : 기사 제목\n",
    "* Contents : 기사 본문"
   ]
  },
  {
   "cell_type": "code",
   "execution_count": 2,
   "metadata": {
    "collapsed": true
   },
   "outputs": [],
   "source": [
    "def read_comm_csv(filename):\n",
    "    data_table = []\n",
    "    with open(filename, 'r',encoding='utf-8') as f:\n",
    "        reader = csv.reader(f)\n",
    "        for row in reader:\n",
    "            data_table.append(row)\n",
    "    return data_table"
   ]
  },
  {
   "cell_type": "code",
   "execution_count": 3,
   "metadata": {
    "collapsed": true
   },
   "outputs": [],
   "source": [
    "data = read_comm_csv('newsData_55weeks.csv')"
   ]
  },
  {
   "cell_type": "code",
   "execution_count": 4,
   "metadata": {},
   "outputs": [
    {
     "data": {
      "text/html": [
       "<div>\n",
       "<style>\n",
       "    .dataframe thead tr:only-child th {\n",
       "        text-align: right;\n",
       "    }\n",
       "\n",
       "    .dataframe thead th {\n",
       "        text-align: left;\n",
       "    }\n",
       "\n",
       "    .dataframe tbody tr th {\n",
       "        vertical-align: top;\n",
       "    }\n",
       "</style>\n",
       "<table border=\"1\" class=\"dataframe\">\n",
       "  <thead>\n",
       "    <tr style=\"text-align: right;\">\n",
       "      <th></th>\n",
       "      <th>ID</th>\n",
       "      <th>Category</th>\n",
       "      <th>Week</th>\n",
       "      <th>Title</th>\n",
       "      <th>Contents</th>\n",
       "    </tr>\n",
       "  </thead>\n",
       "  <tbody>\n",
       "    <tr>\n",
       "      <th>0</th>\n",
       "      <td>0</td>\n",
       "      <td>0</td>\n",
       "      <td>106</td>\n",
       "      <td>[단독]정유라, “(주사 아줌마)누구인지 알 것 같다”…현지 답변태도 분석, 사전 ...</td>\n",
       "      <td>덴마크 올보르 법원에서 잠시 휴정중 기자들의 질문에 답변하는 정유라씨\\n\\n사진=현...</td>\n",
       "    </tr>\n",
       "    <tr>\n",
       "      <th>1</th>\n",
       "      <td>1</td>\n",
       "      <td>0</td>\n",
       "      <td>106</td>\n",
       "      <td>[단독]\"\"정유라, 이대학장실 등 교내서 교수 6명에 학점취득 코치받아\"\"</td>\n",
       "      <td>[연합뉴스TV제공] [연합뉴스TV제공]\\n\\n제4차청문회에 출석한 김경숙 전 이화여...</td>\n",
       "    </tr>\n",
       "    <tr>\n",
       "      <th>2</th>\n",
       "      <td>2</td>\n",
       "      <td>0</td>\n",
       "      <td>106</td>\n",
       "      <td>[단독 동영상] 정유라 덴마크 법원 진술 공개</td>\n",
       "      <td>동영상 뉴스\\n\\n정유라 / 최순실씨 딸\"\"차은택씨도 전 딱 한번 봤어요. 그 테스...</td>\n",
       "    </tr>\n",
       "    <tr>\n",
       "      <th>3</th>\n",
       "      <td>3</td>\n",
       "      <td>0</td>\n",
       "      <td>106</td>\n",
       "      <td>정유라, 덴마크서 불법 체류 혐의로 체포···특검 “송환 협조중” (종합)</td>\n",
       "      <td>[아시아경제 정준영 기자] 이화여대 학사부정 및 삼성 특혜지원 의혹의 수혜자 겸 공...</td>\n",
       "    </tr>\n",
       "    <tr>\n",
       "      <th>4</th>\n",
       "      <td>4</td>\n",
       "      <td>0</td>\n",
       "      <td>106</td>\n",
       "      <td>[단독 영상] 정유라, 덴마크 현지서 체포…국내 송환 임박</td>\n",
       "      <td>동영상 뉴스\\n\\n[앵커]그럼 정유라씨 체포 소식부터 알아봅니다.덴마크 현지에서 이...</td>\n",
       "    </tr>\n",
       "  </tbody>\n",
       "</table>\n",
       "</div>"
      ],
      "text/plain": [
       "  ID Category Week                                              Title  \\\n",
       "0  0        0  106  [단독]정유라, “(주사 아줌마)누구인지 알 것 같다”…현지 답변태도 분석, 사전 ...   \n",
       "1  1        0  106          [단독]\"\"정유라, 이대학장실 등 교내서 교수 6명에 학점취득 코치받아\"\"   \n",
       "2  2        0  106                          [단독 동영상] 정유라 덴마크 법원 진술 공개   \n",
       "3  3        0  106          정유라, 덴마크서 불법 체류 혐의로 체포···특검 “송환 협조중” (종합)   \n",
       "4  4        0  106                   [단독 영상] 정유라, 덴마크 현지서 체포…국내 송환 임박   \n",
       "\n",
       "                                            Contents  \n",
       "0  덴마크 올보르 법원에서 잠시 휴정중 기자들의 질문에 답변하는 정유라씨\\n\\n사진=현...  \n",
       "1  [연합뉴스TV제공] [연합뉴스TV제공]\\n\\n제4차청문회에 출석한 김경숙 전 이화여...  \n",
       "2  동영상 뉴스\\n\\n정유라 / 최순실씨 딸\"\"차은택씨도 전 딱 한번 봤어요. 그 테스...  \n",
       "3  [아시아경제 정준영 기자] 이화여대 학사부정 및 삼성 특혜지원 의혹의 수혜자 겸 공...  \n",
       "4  동영상 뉴스\\n\\n[앵커]그럼 정유라씨 체포 소식부터 알아봅니다.덴마크 현지에서 이...  "
      ]
     },
     "execution_count": 4,
     "metadata": {},
     "output_type": "execute_result"
    }
   ],
   "source": [
    "df(data[1:], columns=data[0]).head() # 1열(head) 제외"
   ]
  },
  {
   "cell_type": "code",
   "execution_count": 5,
   "metadata": {},
   "outputs": [
    {
     "data": {
      "text/plain": [
       "9697"
      ]
     },
     "execution_count": 5,
     "metadata": {},
     "output_type": "execute_result"
    }
   ],
   "source": [
    "len(data) # 총 기사 수  + head "
   ]
  },
  {
   "cell_type": "markdown",
   "metadata": {},
   "source": [
    "## 1) Word2Vec 적용하기\n",
    "word2vec에는 문맥을 통해 단어를 예측하는 CBOW, 단어를 통해 문맥을 예측하는 Skip-Gram 두가지 기법이 있습니다.    \n",
    "아래 예시를 통해 차이점을 살펴보도록 하겠습니다.   \n",
    "\n",
    "\n",
    ">   *** \" When I find myself in times of trouble mother Mary comes to me.\"* **     \n",
    "   - CBOW Input : [When, I, find], [I, find, myself], [myself, in, times], ...    \n",
    "   한 문장에서 **연속적인 단어들**을 입력값으로 집어 넣는다.   \n",
    "   - Skip-Gram Input : [When, I, find], [When, I, myself], [When, find, myself], ...      \n",
    "   한 문장 안에서 **발생할 수 있는 모든 단어 모음(Bag of words)**를 입력값으로 취한다.   \n",
    "   \n",
    "**CBOW**는 Skip-Gram보다 입력값이 적기 때문에 학습 시간이 더 짧고, 자주 등장하는 단어에 대해 정확한 결과를 도출해낼 수 있습니다.    \n",
    "**Skip-Gram**은 학습 시간이 더 길지만 작은 데이터셋에 대해 효율적이고, 자주 등장하지 않는 단어에 대해 더 높은 정확도를 갖습니다."
   ]
  },
  {
   "cell_type": "markdown",
   "metadata": {},
   "source": [
    "## 1-1. 데이터 토큰화\n",
    "KoNPLy의 Twitter 사용하여 tokenize 및 POS tagging 진행하였습니다."
   ]
  },
  {
   "cell_type": "code",
   "execution_count": 6,
   "metadata": {},
   "outputs": [],
   "source": [
    "def tokenize(doc) : \n",
    "    return ['/'.join(t) for t in twitter.pos(doc, norm=True, stem=True)]\n",
    "\n",
    "tokens_doc = [ tokenize(row[4]) for row in data[1:] ] # head 제외"
   ]
  },
  {
   "cell_type": "code",
   "execution_count": 7,
   "metadata": {},
   "outputs": [
    {
     "data": {
      "text/html": [
       "<div>\n",
       "<style>\n",
       "    .dataframe thead tr:only-child th {\n",
       "        text-align: right;\n",
       "    }\n",
       "\n",
       "    .dataframe thead th {\n",
       "        text-align: left;\n",
       "    }\n",
       "\n",
       "    .dataframe tbody tr th {\n",
       "        vertical-align: top;\n",
       "    }\n",
       "</style>\n",
       "<table border=\"1\" class=\"dataframe\">\n",
       "  <thead>\n",
       "    <tr style=\"text-align: right;\">\n",
       "      <th></th>\n",
       "      <th>0</th>\n",
       "      <th>1</th>\n",
       "      <th>2</th>\n",
       "      <th>3</th>\n",
       "      <th>4</th>\n",
       "      <th>5</th>\n",
       "      <th>6</th>\n",
       "      <th>7</th>\n",
       "      <th>8</th>\n",
       "      <th>9</th>\n",
       "      <th>...</th>\n",
       "      <th>13230</th>\n",
       "      <th>13231</th>\n",
       "      <th>13232</th>\n",
       "      <th>13233</th>\n",
       "      <th>13234</th>\n",
       "      <th>13235</th>\n",
       "      <th>13236</th>\n",
       "      <th>13237</th>\n",
       "      <th>13238</th>\n",
       "      <th>13239</th>\n",
       "    </tr>\n",
       "  </thead>\n",
       "  <tbody>\n",
       "    <tr>\n",
       "      <th>0</th>\n",
       "      <td>덴마크/Noun</td>\n",
       "      <td>올보르/Noun</td>\n",
       "      <td>법원/Noun</td>\n",
       "      <td>에서/Josa</td>\n",
       "      <td>잠시/Noun</td>\n",
       "      <td>휴정/Noun</td>\n",
       "      <td>중/Suffix</td>\n",
       "      <td>기자/Noun</td>\n",
       "      <td>들/Suffix</td>\n",
       "      <td>의/Josa</td>\n",
       "      <td>...</td>\n",
       "      <td>None</td>\n",
       "      <td>None</td>\n",
       "      <td>None</td>\n",
       "      <td>None</td>\n",
       "      <td>None</td>\n",
       "      <td>None</td>\n",
       "      <td>None</td>\n",
       "      <td>None</td>\n",
       "      <td>None</td>\n",
       "      <td>None</td>\n",
       "    </tr>\n",
       "    <tr>\n",
       "      <th>1</th>\n",
       "      <td>[/Punctuation</td>\n",
       "      <td>연합뉴스/Noun</td>\n",
       "      <td>TV/Alpha</td>\n",
       "      <td>제공/Noun</td>\n",
       "      <td>]/Punctuation</td>\n",
       "      <td>[/Punctuation</td>\n",
       "      <td>연합뉴스/Noun</td>\n",
       "      <td>TV/Alpha</td>\n",
       "      <td>제공/Noun</td>\n",
       "      <td>]/Punctuation</td>\n",
       "      <td>...</td>\n",
       "      <td>None</td>\n",
       "      <td>None</td>\n",
       "      <td>None</td>\n",
       "      <td>None</td>\n",
       "      <td>None</td>\n",
       "      <td>None</td>\n",
       "      <td>None</td>\n",
       "      <td>None</td>\n",
       "      <td>None</td>\n",
       "      <td>None</td>\n",
       "    </tr>\n",
       "    <tr>\n",
       "      <th>2</th>\n",
       "      <td>동영상/Noun</td>\n",
       "      <td>뉴스/Noun</td>\n",
       "      <td>정유/Noun</td>\n",
       "      <td>라/Josa</td>\n",
       "      <td>//Punctuation</td>\n",
       "      <td>최순실/Noun</td>\n",
       "      <td>씨/Suffix</td>\n",
       "      <td>딸/Noun</td>\n",
       "      <td>\"\"/Punctuation</td>\n",
       "      <td>차/Noun</td>\n",
       "      <td>...</td>\n",
       "      <td>None</td>\n",
       "      <td>None</td>\n",
       "      <td>None</td>\n",
       "      <td>None</td>\n",
       "      <td>None</td>\n",
       "      <td>None</td>\n",
       "      <td>None</td>\n",
       "      <td>None</td>\n",
       "      <td>None</td>\n",
       "      <td>None</td>\n",
       "    </tr>\n",
       "    <tr>\n",
       "      <th>3</th>\n",
       "      <td>[/Punctuation</td>\n",
       "      <td>아시아/Noun</td>\n",
       "      <td>경제/Noun</td>\n",
       "      <td>정준영/Noun</td>\n",
       "      <td>기자/Noun</td>\n",
       "      <td>]/Punctuation</td>\n",
       "      <td>이화여대/Noun</td>\n",
       "      <td>학사/Noun</td>\n",
       "      <td>부정/Noun</td>\n",
       "      <td>및/Noun</td>\n",
       "      <td>...</td>\n",
       "      <td>None</td>\n",
       "      <td>None</td>\n",
       "      <td>None</td>\n",
       "      <td>None</td>\n",
       "      <td>None</td>\n",
       "      <td>None</td>\n",
       "      <td>None</td>\n",
       "      <td>None</td>\n",
       "      <td>None</td>\n",
       "      <td>None</td>\n",
       "    </tr>\n",
       "    <tr>\n",
       "      <th>4</th>\n",
       "      <td>동영상/Noun</td>\n",
       "      <td>뉴스/Noun</td>\n",
       "      <td>[/Punctuation</td>\n",
       "      <td>앵커/Noun</td>\n",
       "      <td>]/Punctuation</td>\n",
       "      <td>그렇다/Adjective</td>\n",
       "      <td>정유/Noun</td>\n",
       "      <td>라씨/Noun</td>\n",
       "      <td>체포/Noun</td>\n",
       "      <td>소식/Noun</td>\n",
       "      <td>...</td>\n",
       "      <td>None</td>\n",
       "      <td>None</td>\n",
       "      <td>None</td>\n",
       "      <td>None</td>\n",
       "      <td>None</td>\n",
       "      <td>None</td>\n",
       "      <td>None</td>\n",
       "      <td>None</td>\n",
       "      <td>None</td>\n",
       "      <td>None</td>\n",
       "    </tr>\n",
       "  </tbody>\n",
       "</table>\n",
       "<p>5 rows × 13240 columns</p>\n",
       "</div>"
      ],
      "text/plain": [
       "           0          1              2         3              4      \\\n",
       "0       덴마크/Noun   올보르/Noun        법원/Noun   에서/Josa        잠시/Noun   \n",
       "1  [/Punctuation  연합뉴스/Noun       TV/Alpha   제공/Noun  ]/Punctuation   \n",
       "2       동영상/Noun    뉴스/Noun        정유/Noun    라/Josa  //Punctuation   \n",
       "3  [/Punctuation   아시아/Noun        경제/Noun  정준영/Noun        기자/Noun   \n",
       "4       동영상/Noun    뉴스/Noun  [/Punctuation   앵커/Noun  ]/Punctuation   \n",
       "\n",
       "           5          6         7               8              9      ...   \\\n",
       "0        휴정/Noun   중/Suffix   기자/Noun        들/Suffix         의/Josa  ...    \n",
       "1  [/Punctuation  연합뉴스/Noun  TV/Alpha         제공/Noun  ]/Punctuation  ...    \n",
       "2       최순실/Noun   씨/Suffix    딸/Noun  \"\"/Punctuation         차/Noun  ...    \n",
       "3  ]/Punctuation  이화여대/Noun   학사/Noun         부정/Noun         및/Noun  ...    \n",
       "4  그렇다/Adjective    정유/Noun   라씨/Noun         체포/Noun        소식/Noun  ...    \n",
       "\n",
       "  13230 13231 13232 13233 13234 13235 13236 13237 13238 13239  \n",
       "0  None  None  None  None  None  None  None  None  None  None  \n",
       "1  None  None  None  None  None  None  None  None  None  None  \n",
       "2  None  None  None  None  None  None  None  None  None  None  \n",
       "3  None  None  None  None  None  None  None  None  None  None  \n",
       "4  None  None  None  None  None  None  None  None  None  None  \n",
       "\n",
       "[5 rows x 13240 columns]"
      ]
     },
     "execution_count": 7,
     "metadata": {},
     "output_type": "execute_result"
    }
   ],
   "source": [
    "df(tokens_doc).head()"
   ]
  },
  {
   "cell_type": "markdown",
   "metadata": {},
   "source": [
    "## 1-2. 품사 필터링\n",
    "의미가 있는 형태소만 (명사, 동사, 형용사, 영어) 남깁니다."
   ]
  },
  {
   "cell_type": "code",
   "execution_count": 8,
   "metadata": {
    "collapsed": true
   },
   "outputs": [],
   "source": [
    "def pumsa(doc):\n",
    "    temp = []\n",
    "    \n",
    "    for items in doc:\n",
    "        words = []\n",
    "        \n",
    "        for item in items:\n",
    "            if item.split('/')[1] in ['Noun', 'Verb', 'Adjective','Alpha']:\n",
    "                words.append(item)             \n",
    "        temp.append(words)\n",
    "    return temp"
   ]
  },
  {
   "cell_type": "code",
   "execution_count": 9,
   "metadata": {},
   "outputs": [
    {
     "data": {
      "text/html": [
       "<div>\n",
       "<style>\n",
       "    .dataframe thead tr:only-child th {\n",
       "        text-align: right;\n",
       "    }\n",
       "\n",
       "    .dataframe thead th {\n",
       "        text-align: left;\n",
       "    }\n",
       "\n",
       "    .dataframe tbody tr th {\n",
       "        vertical-align: top;\n",
       "    }\n",
       "</style>\n",
       "<table border=\"1\" class=\"dataframe\">\n",
       "  <thead>\n",
       "    <tr style=\"text-align: right;\">\n",
       "      <th></th>\n",
       "      <th>0</th>\n",
       "      <th>1</th>\n",
       "      <th>2</th>\n",
       "      <th>3</th>\n",
       "      <th>4</th>\n",
       "      <th>5</th>\n",
       "      <th>6</th>\n",
       "      <th>7</th>\n",
       "      <th>8</th>\n",
       "      <th>9</th>\n",
       "      <th>...</th>\n",
       "      <th>8065</th>\n",
       "      <th>8066</th>\n",
       "      <th>8067</th>\n",
       "      <th>8068</th>\n",
       "      <th>8069</th>\n",
       "      <th>8070</th>\n",
       "      <th>8071</th>\n",
       "      <th>8072</th>\n",
       "      <th>8073</th>\n",
       "      <th>8074</th>\n",
       "    </tr>\n",
       "  </thead>\n",
       "  <tbody>\n",
       "    <tr>\n",
       "      <th>0</th>\n",
       "      <td>덴마크/Noun</td>\n",
       "      <td>올보르/Noun</td>\n",
       "      <td>법원/Noun</td>\n",
       "      <td>잠시/Noun</td>\n",
       "      <td>휴정/Noun</td>\n",
       "      <td>기자/Noun</td>\n",
       "      <td>질문/Noun</td>\n",
       "      <td>답변/Noun</td>\n",
       "      <td>하다/Verb</td>\n",
       "      <td>정유/Noun</td>\n",
       "      <td>...</td>\n",
       "      <td>None</td>\n",
       "      <td>None</td>\n",
       "      <td>None</td>\n",
       "      <td>None</td>\n",
       "      <td>None</td>\n",
       "      <td>None</td>\n",
       "      <td>None</td>\n",
       "      <td>None</td>\n",
       "      <td>None</td>\n",
       "      <td>None</td>\n",
       "    </tr>\n",
       "    <tr>\n",
       "      <th>1</th>\n",
       "      <td>연합뉴스/Noun</td>\n",
       "      <td>TV/Alpha</td>\n",
       "      <td>제공/Noun</td>\n",
       "      <td>연합뉴스/Noun</td>\n",
       "      <td>TV/Alpha</td>\n",
       "      <td>제공/Noun</td>\n",
       "      <td>제/Noun</td>\n",
       "      <td>차/Noun</td>\n",
       "      <td>청문회/Noun</td>\n",
       "      <td>출석/Noun</td>\n",
       "      <td>...</td>\n",
       "      <td>None</td>\n",
       "      <td>None</td>\n",
       "      <td>None</td>\n",
       "      <td>None</td>\n",
       "      <td>None</td>\n",
       "      <td>None</td>\n",
       "      <td>None</td>\n",
       "      <td>None</td>\n",
       "      <td>None</td>\n",
       "      <td>None</td>\n",
       "    </tr>\n",
       "    <tr>\n",
       "      <th>2</th>\n",
       "      <td>동영상/Noun</td>\n",
       "      <td>뉴스/Noun</td>\n",
       "      <td>정유/Noun</td>\n",
       "      <td>최순실/Noun</td>\n",
       "      <td>딸/Noun</td>\n",
       "      <td>차/Noun</td>\n",
       "      <td>은택/Noun</td>\n",
       "      <td>전/Noun</td>\n",
       "      <td>한번/Noun</td>\n",
       "      <td>보다/Verb</td>\n",
       "      <td>...</td>\n",
       "      <td>None</td>\n",
       "      <td>None</td>\n",
       "      <td>None</td>\n",
       "      <td>None</td>\n",
       "      <td>None</td>\n",
       "      <td>None</td>\n",
       "      <td>None</td>\n",
       "      <td>None</td>\n",
       "      <td>None</td>\n",
       "      <td>None</td>\n",
       "    </tr>\n",
       "    <tr>\n",
       "      <th>3</th>\n",
       "      <td>아시아/Noun</td>\n",
       "      <td>경제/Noun</td>\n",
       "      <td>정준영/Noun</td>\n",
       "      <td>기자/Noun</td>\n",
       "      <td>이화여대/Noun</td>\n",
       "      <td>학사/Noun</td>\n",
       "      <td>부정/Noun</td>\n",
       "      <td>및/Noun</td>\n",
       "      <td>삼성/Noun</td>\n",
       "      <td>특혜/Noun</td>\n",
       "      <td>...</td>\n",
       "      <td>None</td>\n",
       "      <td>None</td>\n",
       "      <td>None</td>\n",
       "      <td>None</td>\n",
       "      <td>None</td>\n",
       "      <td>None</td>\n",
       "      <td>None</td>\n",
       "      <td>None</td>\n",
       "      <td>None</td>\n",
       "      <td>None</td>\n",
       "    </tr>\n",
       "    <tr>\n",
       "      <th>4</th>\n",
       "      <td>동영상/Noun</td>\n",
       "      <td>뉴스/Noun</td>\n",
       "      <td>앵커/Noun</td>\n",
       "      <td>그렇다/Adjective</td>\n",
       "      <td>정유/Noun</td>\n",
       "      <td>라씨/Noun</td>\n",
       "      <td>체포/Noun</td>\n",
       "      <td>소식/Noun</td>\n",
       "      <td>알아보다/Verb</td>\n",
       "      <td>덴마크/Noun</td>\n",
       "      <td>...</td>\n",
       "      <td>None</td>\n",
       "      <td>None</td>\n",
       "      <td>None</td>\n",
       "      <td>None</td>\n",
       "      <td>None</td>\n",
       "      <td>None</td>\n",
       "      <td>None</td>\n",
       "      <td>None</td>\n",
       "      <td>None</td>\n",
       "      <td>None</td>\n",
       "    </tr>\n",
       "  </tbody>\n",
       "</table>\n",
       "<p>5 rows × 8075 columns</p>\n",
       "</div>"
      ],
      "text/plain": [
       "        0         1         2              3          4        5        6     \\\n",
       "0   덴마크/Noun  올보르/Noun   법원/Noun        잠시/Noun    휴정/Noun  기자/Noun  질문/Noun   \n",
       "1  연합뉴스/Noun  TV/Alpha   제공/Noun      연합뉴스/Noun   TV/Alpha  제공/Noun   제/Noun   \n",
       "2   동영상/Noun   뉴스/Noun   정유/Noun       최순실/Noun     딸/Noun   차/Noun  은택/Noun   \n",
       "3   아시아/Noun   경제/Noun  정준영/Noun        기자/Noun  이화여대/Noun  학사/Noun  부정/Noun   \n",
       "4   동영상/Noun   뉴스/Noun   앵커/Noun  그렇다/Adjective    정유/Noun  라씨/Noun  체포/Noun   \n",
       "\n",
       "      7          8         9     ...   8065  8066  8067  8068  8069  8070  \\\n",
       "0  답변/Noun    하다/Verb   정유/Noun  ...   None  None  None  None  None  None   \n",
       "1   차/Noun   청문회/Noun   출석/Noun  ...   None  None  None  None  None  None   \n",
       "2   전/Noun    한번/Noun   보다/Verb  ...   None  None  None  None  None  None   \n",
       "3   및/Noun    삼성/Noun   특혜/Noun  ...   None  None  None  None  None  None   \n",
       "4  소식/Noun  알아보다/Verb  덴마크/Noun  ...   None  None  None  None  None  None   \n",
       "\n",
       "   8071  8072  8073  8074  \n",
       "0  None  None  None  None  \n",
       "1  None  None  None  None  \n",
       "2  None  None  None  None  \n",
       "3  None  None  None  None  \n",
       "4  None  None  None  None  \n",
       "\n",
       "[5 rows x 8075 columns]"
      ]
     },
     "execution_count": 9,
     "metadata": {},
     "output_type": "execute_result"
    }
   ],
   "source": [
    "selected_tokens = pumsa(tokens_doc)\n",
    "df(selected_tokens).head()"
   ]
  },
  {
   "cell_type": "markdown",
   "metadata": {},
   "source": [
    "#### 각 기사마다 필터링된 토큰의 개수를 세어보겠습니다."
   ]
  },
  {
   "cell_type": "code",
   "execution_count": 10,
   "metadata": {},
   "outputs": [
    {
     "name": "stdout",
     "output_type": "stream",
     "text": [
      "0    741\n",
      "1    482\n",
      "2    175\n",
      "3    421\n",
      "4    197\n",
      "dtype: int64\n"
     ]
    }
   ],
   "source": [
    "# 각 기사별 토큰 개수\n",
    "a=df(selected_tokens).loc[:,:].count(axis=1)\n",
    "print(a[0:5])"
   ]
  },
  {
   "cell_type": "code",
   "execution_count": 11,
   "metadata": {},
   "outputs": [
    {
     "data": {
      "text/plain": [
       "8075"
      ]
     },
     "execution_count": 11,
     "metadata": {},
     "output_type": "execute_result"
    }
   ],
   "source": [
    "max(a)"
   ]
  },
  {
   "cell_type": "code",
   "execution_count": 12,
   "metadata": {},
   "outputs": [
    {
     "data": {
      "text/plain": [
       "4897656"
      ]
     },
     "execution_count": 12,
     "metadata": {},
     "output_type": "execute_result"
    }
   ],
   "source": [
    "# 총 토큰 개수\n",
    "sum(a)"
   ]
  },
  {
   "cell_type": "markdown",
   "metadata": {},
   "source": [
    "## 1-3. 임베딩 "
   ]
  },
  {
   "cell_type": "markdown",
   "metadata": {},
   "source": [
    "파이썬에서는 gensim이라는 패키지의 Word2Vec 클래스로 구현가능 합니다.   \n",
    "논문에 의하면 Skip-gram이 CBOW에 비해 전반적으로 좋은 결과를 내는 것으로 보여 Skip-gram 모델을 사용하도록 하겠습니다."
   ]
  },
  {
   "cell_type": "markdown",
   "metadata": {},
   "source": [
    "> * sg=1,  # By default (sg=0), CBOW is used. Otherwise (sg=1), skip-gram is employed.   \n",
    "* size=100,  # the dimensionality of the feature vectors.  \n",
    "* window=10, # the maximum distance between the current and predicted word within a sentence. \n",
    "* min_count=5   #ignore all words with total frequency lower than this."
   ]
  },
  {
   "cell_type": "code",
   "execution_count": 13,
   "metadata": {
    "collapsed": true
   },
   "outputs": [],
   "source": [
    "w2v_model= Word2Vec(sentences=selected_tokens, sample=1e-5, sg=1,size=100,window=10, min_count=5)"
   ]
  },
  {
   "cell_type": "markdown",
   "metadata": {},
   "source": [
    "* 단어간 유사도 확인(cosine-similarity)"
   ]
  },
  {
   "cell_type": "code",
   "execution_count": 14,
   "metadata": {
    "collapsed": true
   },
   "outputs": [],
   "source": [
    "w2v_model.init_sims(replace=True)"
   ]
  },
  {
   "cell_type": "code",
   "execution_count": 15,
   "metadata": {
    "scrolled": true
   },
   "outputs": [
    {
     "name": "stderr",
     "output_type": "stream",
     "text": [
      "/home/hufs/anaconda3/lib/python3.6/site-packages/ipykernel_launcher.py:1: DeprecationWarning: Call to deprecated `similarity` (Method will be removed in 4.0.0, use self.wv.similarity() instead).\n",
      "  \"\"\"Entry point for launching an IPython kernel.\n"
     ]
    },
    {
     "data": {
      "text/plain": [
       "0.8628591429175143"
      ]
     },
     "execution_count": 15,
     "metadata": {},
     "output_type": "execute_result"
    }
   ],
   "source": [
    "w2v_model.similarity('아이폰/Noun', '애플/Noun')"
   ]
  },
  {
   "cell_type": "markdown",
   "metadata": {},
   "source": [
    "* 유사도 높은 순으로 10개 단어 추출"
   ]
  },
  {
   "cell_type": "code",
   "execution_count": 16,
   "metadata": {
    "scrolled": false
   },
   "outputs": [
    {
     "name": "stderr",
     "output_type": "stream",
     "text": [
      "/home/hufs/anaconda3/lib/python3.6/site-packages/ipykernel_launcher.py:1: DeprecationWarning: Call to deprecated `most_similar` (Method will be removed in 4.0.0, use self.wv.most_similar() instead).\n",
      "  \"\"\"Entry point for launching an IPython kernel.\n"
     ]
    },
    {
     "data": {
      "text/plain": [
       "[('동계올림픽/Noun', 0.7810097932815552),\n",
       " ('올림픽/Noun', 0.7472667098045349),\n",
       " ('평창올림픽/Noun', 0.7230064868927002),\n",
       " ('패럴림픽/Noun', 0.7062085866928101),\n",
       " ('알펜시아/Noun', 0.6842470169067383),\n",
       " ('국제올림픽위원회/Noun', 0.6815958023071289),\n",
       " ('아이스하키/Noun', 0.6760965585708618),\n",
       " ('평창동계올림픽/Noun', 0.6716214418411255),\n",
       " ('정선/Noun', 0.6632678508758545),\n",
       " ('평창군/Noun', 0.6616650819778442)]"
      ]
     },
     "execution_count": 16,
     "metadata": {},
     "output_type": "execute_result"
    }
   ],
   "source": [
    "w2v_model.most_similar(\"평창/Noun\")"
   ]
  },
  {
   "cell_type": "code",
   "execution_count": 17,
   "metadata": {
    "scrolled": false
   },
   "outputs": [
    {
     "name": "stderr",
     "output_type": "stream",
     "text": [
      "/home/hufs/anaconda3/lib/python3.6/site-packages/ipykernel_launcher.py:1: DeprecationWarning: Call to deprecated `most_similar` (Method will be removed in 4.0.0, use self.wv.most_similar() instead).\n",
      "  \"\"\"Entry point for launching an IPython kernel.\n"
     ]
    },
    {
     "data": {
      "text/plain": [
       "[('노동당/Noun', 0.8926966190338135),\n",
       " ('노동신문/Noun', 0.8606791496276855),\n",
       " ('김일성/Noun', 0.8475520610809326),\n",
       " ('조선노동당/Noun', 0.8314770460128784),\n",
       " ('Redistribution/Alpha', 0.8139813542366028),\n",
       " ('양강도/Noun', 0.8073557019233704),\n",
       " ('김효정/Noun', 0.7967101335525513),\n",
       " ('리병철/Noun', 0.791688084602356),\n",
       " ('북한/Noun', 0.7897021174430847),\n",
       " ('태양절/Noun', 0.7847779393196106)]"
      ]
     },
     "execution_count": 17,
     "metadata": {},
     "output_type": "execute_result"
    }
   ],
   "source": [
    "w2v_model.most_similar(\"김정은/Noun\")"
   ]
  },
  {
   "cell_type": "code",
   "execution_count": 18,
   "metadata": {
    "scrolled": false
   },
   "outputs": [
    {
     "name": "stderr",
     "output_type": "stream",
     "text": [
      "/home/hufs/anaconda3/lib/python3.6/site-packages/ipykernel_launcher.py:1: DeprecationWarning: Call to deprecated `most_similar` (Method will be removed in 4.0.0, use self.wv.most_similar() instead).\n",
      "  \"\"\"Entry point for launching an IPython kernel.\n"
     ]
    },
    {
     "data": {
      "text/plain": [
       "[('체감온도/Noun', 0.8757126331329346),\n",
       " ('맹위/Noun', 0.8734347820281982),\n",
       " ('선선/Noun', 0.8670997619628906),\n",
       " ('한낮/Noun', 0.8637862205505371),\n",
       " ('이맘/Noun', 0.863343358039856),\n",
       " ('눈비/Noun', 0.8612349629402161),\n",
       " ('천둥/Noun', 0.8570339679718018),\n",
       " ('만조/Noun', 0.8540732860565186),\n",
       " ('영서지방/Noun', 0.8526050448417664),\n",
       " ('꽁꽁/Noun', 0.8522484302520752)]"
      ]
     },
     "execution_count": 18,
     "metadata": {},
     "output_type": "execute_result"
    }
   ],
   "source": [
    "w2v_model.most_similar(\"한파/Noun\")"
   ]
  },
  {
   "cell_type": "code",
   "execution_count": 19,
   "metadata": {
    "scrolled": false
   },
   "outputs": [
    {
     "name": "stderr",
     "output_type": "stream",
     "text": [
      "/home/hufs/anaconda3/lib/python3.6/site-packages/ipykernel_launcher.py:1: DeprecationWarning: Call to deprecated `most_similar` (Method will be removed in 4.0.0, use self.wv.most_similar() instead).\n",
      "  \"\"\"Entry point for launching an IPython kernel.\n"
     ]
    },
    {
     "data": {
      "text/plain": [
       "[('가상화/Noun', 0.8640475273132324),\n",
       " ('채굴/Noun', 0.857657790184021),\n",
       " ('코인/Noun', 0.8241461515426636),\n",
       " ('리플/Noun', 0.8213384747505188),\n",
       " ('캐시/Noun', 0.8042333722114563),\n",
       " ('열풍/Noun', 0.7987518906593323),\n",
       " ('화폐/Noun', 0.7961705327033997),\n",
       " ('가상/Noun', 0.791966438293457),\n",
       " ('폐인/Noun', 0.7892058491706848),\n",
       " ('암호/Noun', 0.7793246507644653)]"
      ]
     },
     "execution_count": 19,
     "metadata": {},
     "output_type": "execute_result"
    }
   ],
   "source": [
    "w2v_model.most_similar(\"비트코인/Noun\")"
   ]
  },
  {
   "cell_type": "markdown",
   "metadata": {},
   "source": [
    "--> word2vec을 활용한 임베딩이 잘 된 것을 확인할 수 있습니다."
   ]
  },
  {
   "cell_type": "markdown",
   "metadata": {},
   "source": [
    "# 2) Doc2vec 적용하기"
   ]
  },
  {
   "cell_type": "markdown",
   "metadata": {},
   "source": [
    "## 2-1. preprocessing\n",
    "Word2vec 과 동일하게 데이터 토큰화 + 품사 필터링 진행합니다. (단, 품사필터링함수를 리스트로 반환하도록 수정하였습니다)    "
   ]
  },
  {
   "cell_type": "code",
   "execution_count": 20,
   "metadata": {
    "collapsed": true
   },
   "outputs": [],
   "source": [
    "def pumsa_2(doc):\n",
    "    temp = []\n",
    "    \n",
    "    for items in doc:\n",
    "        words = []\n",
    "        \n",
    "        for item in items:\n",
    "            if item.split('/')[1] in ['Noun', 'Verb', 'Adjective','Alpha']:\n",
    "                words.append(item)             \n",
    "        temp.append([words])  #  각 row를 리스트로 반환\n",
    "    return temp\n",
    "\n",
    "selected_tokens = pumsa_2(tokens_doc)"
   ]
  },
  {
   "cell_type": "code",
   "execution_count": 21,
   "metadata": {},
   "outputs": [
    {
     "data": {
      "text/html": [
       "<div>\n",
       "<style>\n",
       "    .dataframe thead tr:only-child th {\n",
       "        text-align: right;\n",
       "    }\n",
       "\n",
       "    .dataframe thead th {\n",
       "        text-align: left;\n",
       "    }\n",
       "\n",
       "    .dataframe tbody tr th {\n",
       "        vertical-align: top;\n",
       "    }\n",
       "</style>\n",
       "<table border=\"1\" class=\"dataframe\">\n",
       "  <thead>\n",
       "    <tr style=\"text-align: right;\">\n",
       "      <th></th>\n",
       "      <th>0</th>\n",
       "    </tr>\n",
       "  </thead>\n",
       "  <tbody>\n",
       "    <tr>\n",
       "      <th>9691</th>\n",
       "      <td>[최근/Noun, 애플스토어/Noun, 몰려들다/Verb, 고객/Noun, 때문/N...</td>\n",
       "    </tr>\n",
       "    <tr>\n",
       "      <th>9692</th>\n",
       "      <td>[CJ/Alpha, 그룹/Noun, BIG/Alpha, PICTURE/Alpha, ...</td>\n",
       "    </tr>\n",
       "    <tr>\n",
       "      <th>9693</th>\n",
       "      <td>[년/Noun, 일자리/Noun, 만/Noun, 창/Noun, 추다/Verb, 등/...</td>\n",
       "    </tr>\n",
       "    <tr>\n",
       "      <th>9694</th>\n",
       "      <td>[아이폰/Noun, 아이폰/Noun, 머니투데이/Noun, 서진욱/Noun, 기자/...</td>\n",
       "    </tr>\n",
       "    <tr>\n",
       "      <th>9695</th>\n",
       "      <td>[글꼴/Noun, 선택/Noun, 본문/Noun, 텍스트/Noun, 작다/Adjec...</td>\n",
       "    </tr>\n",
       "  </tbody>\n",
       "</table>\n",
       "</div>"
      ],
      "text/plain": [
       "                                                      0\n",
       "9691  [최근/Noun, 애플스토어/Noun, 몰려들다/Verb, 고객/Noun, 때문/N...\n",
       "9692  [CJ/Alpha, 그룹/Noun, BIG/Alpha, PICTURE/Alpha, ...\n",
       "9693  [년/Noun, 일자리/Noun, 만/Noun, 창/Noun, 추다/Verb, 등/...\n",
       "9694  [아이폰/Noun, 아이폰/Noun, 머니투데이/Noun, 서진욱/Noun, 기자/...\n",
       "9695  [글꼴/Noun, 선택/Noun, 본문/Noun, 텍스트/Noun, 작다/Adjec..."
      ]
     },
     "execution_count": 21,
     "metadata": {},
     "output_type": "execute_result"
    }
   ],
   "source": [
    "df(selected_tokens).tail()"
   ]
  },
  {
   "cell_type": "code",
   "execution_count": 22,
   "metadata": {
    "collapsed": true
   },
   "outputs": [],
   "source": [
    "tot_data = np.append(data[1:], selected_tokens, 1)"
   ]
  },
  {
   "cell_type": "code",
   "execution_count": 23,
   "metadata": {},
   "outputs": [
    {
     "data": {
      "text/html": [
       "<div>\n",
       "<style>\n",
       "    .dataframe thead tr:only-child th {\n",
       "        text-align: right;\n",
       "    }\n",
       "\n",
       "    .dataframe thead th {\n",
       "        text-align: left;\n",
       "    }\n",
       "\n",
       "    .dataframe tbody tr th {\n",
       "        vertical-align: top;\n",
       "    }\n",
       "</style>\n",
       "<table border=\"1\" class=\"dataframe\">\n",
       "  <thead>\n",
       "    <tr style=\"text-align: right;\">\n",
       "      <th></th>\n",
       "      <th>0</th>\n",
       "      <th>1</th>\n",
       "      <th>2</th>\n",
       "      <th>3</th>\n",
       "      <th>4</th>\n",
       "      <th>5</th>\n",
       "    </tr>\n",
       "  </thead>\n",
       "  <tbody>\n",
       "    <tr>\n",
       "      <th>0</th>\n",
       "      <td>0</td>\n",
       "      <td>0</td>\n",
       "      <td>106</td>\n",
       "      <td>[단독]정유라, “(주사 아줌마)누구인지 알 것 같다”…현지 답변태도 분석, 사전 ...</td>\n",
       "      <td>덴마크 올보르 법원에서 잠시 휴정중 기자들의 질문에 답변하는 정유라씨\\n\\n사진=현...</td>\n",
       "      <td>[덴마크/Noun, 올보르/Noun, 법원/Noun, 잠시/Noun, 휴정/Noun...</td>\n",
       "    </tr>\n",
       "    <tr>\n",
       "      <th>1</th>\n",
       "      <td>1</td>\n",
       "      <td>0</td>\n",
       "      <td>106</td>\n",
       "      <td>[단독]\"\"정유라, 이대학장실 등 교내서 교수 6명에 학점취득 코치받아\"\"</td>\n",
       "      <td>[연합뉴스TV제공] [연합뉴스TV제공]\\n\\n제4차청문회에 출석한 김경숙 전 이화여...</td>\n",
       "      <td>[연합뉴스/Noun, TV/Alpha, 제공/Noun, 연합뉴스/Noun, TV/A...</td>\n",
       "    </tr>\n",
       "    <tr>\n",
       "      <th>2</th>\n",
       "      <td>2</td>\n",
       "      <td>0</td>\n",
       "      <td>106</td>\n",
       "      <td>[단독 동영상] 정유라 덴마크 법원 진술 공개</td>\n",
       "      <td>동영상 뉴스\\n\\n정유라 / 최순실씨 딸\"\"차은택씨도 전 딱 한번 봤어요. 그 테스...</td>\n",
       "      <td>[동영상/Noun, 뉴스/Noun, 정유/Noun, 최순실/Noun, 딸/Noun,...</td>\n",
       "    </tr>\n",
       "    <tr>\n",
       "      <th>3</th>\n",
       "      <td>3</td>\n",
       "      <td>0</td>\n",
       "      <td>106</td>\n",
       "      <td>정유라, 덴마크서 불법 체류 혐의로 체포···특검 “송환 협조중” (종합)</td>\n",
       "      <td>[아시아경제 정준영 기자] 이화여대 학사부정 및 삼성 특혜지원 의혹의 수혜자 겸 공...</td>\n",
       "      <td>[아시아/Noun, 경제/Noun, 정준영/Noun, 기자/Noun, 이화여대/No...</td>\n",
       "    </tr>\n",
       "    <tr>\n",
       "      <th>4</th>\n",
       "      <td>4</td>\n",
       "      <td>0</td>\n",
       "      <td>106</td>\n",
       "      <td>[단독 영상] 정유라, 덴마크 현지서 체포…국내 송환 임박</td>\n",
       "      <td>동영상 뉴스\\n\\n[앵커]그럼 정유라씨 체포 소식부터 알아봅니다.덴마크 현지에서 이...</td>\n",
       "      <td>[동영상/Noun, 뉴스/Noun, 앵커/Noun, 그렇다/Adjective, 정유...</td>\n",
       "    </tr>\n",
       "  </tbody>\n",
       "</table>\n",
       "</div>"
      ],
      "text/plain": [
       "   0  1    2                                                  3  \\\n",
       "0  0  0  106  [단독]정유라, “(주사 아줌마)누구인지 알 것 같다”…현지 답변태도 분석, 사전 ...   \n",
       "1  1  0  106          [단독]\"\"정유라, 이대학장실 등 교내서 교수 6명에 학점취득 코치받아\"\"   \n",
       "2  2  0  106                          [단독 동영상] 정유라 덴마크 법원 진술 공개   \n",
       "3  3  0  106          정유라, 덴마크서 불법 체류 혐의로 체포···특검 “송환 협조중” (종합)   \n",
       "4  4  0  106                   [단독 영상] 정유라, 덴마크 현지서 체포…국내 송환 임박   \n",
       "\n",
       "                                                   4  \\\n",
       "0  덴마크 올보르 법원에서 잠시 휴정중 기자들의 질문에 답변하는 정유라씨\\n\\n사진=현...   \n",
       "1  [연합뉴스TV제공] [연합뉴스TV제공]\\n\\n제4차청문회에 출석한 김경숙 전 이화여...   \n",
       "2  동영상 뉴스\\n\\n정유라 / 최순실씨 딸\"\"차은택씨도 전 딱 한번 봤어요. 그 테스...   \n",
       "3  [아시아경제 정준영 기자] 이화여대 학사부정 및 삼성 특혜지원 의혹의 수혜자 겸 공...   \n",
       "4  동영상 뉴스\\n\\n[앵커]그럼 정유라씨 체포 소식부터 알아봅니다.덴마크 현지에서 이...   \n",
       "\n",
       "                                                   5  \n",
       "0  [덴마크/Noun, 올보르/Noun, 법원/Noun, 잠시/Noun, 휴정/Noun...  \n",
       "1  [연합뉴스/Noun, TV/Alpha, 제공/Noun, 연합뉴스/Noun, TV/A...  \n",
       "2  [동영상/Noun, 뉴스/Noun, 정유/Noun, 최순실/Noun, 딸/Noun,...  \n",
       "3  [아시아/Noun, 경제/Noun, 정준영/Noun, 기자/Noun, 이화여대/No...  \n",
       "4  [동영상/Noun, 뉴스/Noun, 앵커/Noun, 그렇다/Adjective, 정유...  "
      ]
     },
     "execution_count": 23,
     "metadata": {},
     "output_type": "execute_result"
    }
   ],
   "source": [
    "df(tot_data).head()"
   ]
  },
  {
   "cell_type": "markdown",
   "metadata": {},
   "source": [
    "#### doc2vec이 요구하는 형태로 데이터 변환\n",
    "* ( 본문 , 카테고리) 형태로 변환합니다"
   ]
  },
  {
   "cell_type": "code",
   "execution_count": 24,
   "metadata": {
    "scrolled": true
   },
   "outputs": [
    {
     "data": {
      "text/html": [
       "<div>\n",
       "<style>\n",
       "    .dataframe thead tr:only-child th {\n",
       "        text-align: right;\n",
       "    }\n",
       "\n",
       "    .dataframe thead th {\n",
       "        text-align: left;\n",
       "    }\n",
       "\n",
       "    .dataframe tbody tr th {\n",
       "        vertical-align: top;\n",
       "    }\n",
       "</style>\n",
       "<table border=\"1\" class=\"dataframe\">\n",
       "  <thead>\n",
       "    <tr style=\"text-align: right;\">\n",
       "      <th></th>\n",
       "      <th>0</th>\n",
       "      <th>1</th>\n",
       "    </tr>\n",
       "  </thead>\n",
       "  <tbody>\n",
       "    <tr>\n",
       "      <th>9691</th>\n",
       "      <td>[최근/Noun, 애플스토어/Noun, 몰려들다/Verb, 고객/Noun, 때문/N...</td>\n",
       "      <td>5</td>\n",
       "    </tr>\n",
       "    <tr>\n",
       "      <th>9692</th>\n",
       "      <td>[CJ/Alpha, 그룹/Noun, BIG/Alpha, PICTURE/Alpha, ...</td>\n",
       "      <td>5</td>\n",
       "    </tr>\n",
       "    <tr>\n",
       "      <th>9693</th>\n",
       "      <td>[년/Noun, 일자리/Noun, 만/Noun, 창/Noun, 추다/Verb, 등/...</td>\n",
       "      <td>5</td>\n",
       "    </tr>\n",
       "    <tr>\n",
       "      <th>9694</th>\n",
       "      <td>[아이폰/Noun, 아이폰/Noun, 머니투데이/Noun, 서진욱/Noun, 기자/...</td>\n",
       "      <td>5</td>\n",
       "    </tr>\n",
       "    <tr>\n",
       "      <th>9695</th>\n",
       "      <td>[글꼴/Noun, 선택/Noun, 본문/Noun, 텍스트/Noun, 작다/Adjec...</td>\n",
       "      <td>5</td>\n",
       "    </tr>\n",
       "  </tbody>\n",
       "</table>\n",
       "</div>"
      ],
      "text/plain": [
       "                                                      0  1\n",
       "9691  [최근/Noun, 애플스토어/Noun, 몰려들다/Verb, 고객/Noun, 때문/N...  5\n",
       "9692  [CJ/Alpha, 그룹/Noun, BIG/Alpha, PICTURE/Alpha, ...  5\n",
       "9693  [년/Noun, 일자리/Noun, 만/Noun, 창/Noun, 추다/Verb, 등/...  5\n",
       "9694  [아이폰/Noun, 아이폰/Noun, 머니투데이/Noun, 서진욱/Noun, 기자/...  5\n",
       "9695  [글꼴/Noun, 선택/Noun, 본문/Noun, 텍스트/Noun, 작다/Adjec...  5"
      ]
     },
     "execution_count": 24,
     "metadata": {},
     "output_type": "execute_result"
    }
   ],
   "source": [
    "tot_docs = [(row[5],row[1]) for row in tot_data]\n",
    "df(tot_docs).tail()"
   ]
  },
  {
   "cell_type": "markdown",
   "metadata": {},
   "source": [
    "#### 데이터(train, test 8:2) 나누기 \n",
    "* 카테고리별로 층화 추출(stratified splitting)   \n",
    "class(뉴스 카테고리) 별로 고르게 뽑기 위하여 strtify 옵션을 추가합니다 "
   ]
  },
  {
   "cell_type": "code",
   "execution_count": 25,
   "metadata": {
    "collapsed": true
   },
   "outputs": [],
   "source": [
    "from sklearn.model_selection import train_test_split\n",
    "\n",
    "train, test = train_test_split(tot_docs, stratify =df(tot_docs).iloc[:,1] , test_size=0.2) \n",
    "# df(tot_docs).iloc[:,1] :  2열(Category)기준으로 층화"
   ]
  },
  {
   "cell_type": "markdown",
   "metadata": {},
   "source": [
    "* 각 카테고리마다 동일한 개수의 기사가 샘플링된 것을 확인할 수 있습니다."
   ]
  },
  {
   "cell_type": "code",
   "execution_count": 26,
   "metadata": {},
   "outputs": [
    {
     "data": {
      "text/plain": [
       "1293"
      ]
     },
     "execution_count": 26,
     "metadata": {},
     "output_type": "execute_result"
    }
   ],
   "source": [
    "sum(df(train).iloc[:,1]=='0') # train set에서 '정치' 기사 갯수"
   ]
  },
  {
   "cell_type": "code",
   "execution_count": 27,
   "metadata": {},
   "outputs": [
    {
     "data": {
      "text/plain": [
       "1292"
      ]
     },
     "execution_count": 27,
     "metadata": {},
     "output_type": "execute_result"
    }
   ],
   "source": [
    "sum(df(train).iloc[:,1]=='5')  # train set에서 'IT/과학' 기사 갯수"
   ]
  },
  {
   "cell_type": "code",
   "execution_count": 28,
   "metadata": {},
   "outputs": [
    {
     "data": {
      "text/plain": [
       "7756"
      ]
     },
     "execution_count": 28,
     "metadata": {},
     "output_type": "execute_result"
    }
   ],
   "source": [
    "len(train) # 전체 train set 기사 수"
   ]
  },
  {
   "cell_type": "code",
   "execution_count": 29,
   "metadata": {},
   "outputs": [
    {
     "data": {
      "text/plain": [
       "1940"
      ]
     },
     "execution_count": 29,
     "metadata": {},
     "output_type": "execute_result"
    }
   ],
   "source": [
    "len(test) # 전체 test set 기사 수"
   ]
  },
  {
   "cell_type": "markdown",
   "metadata": {},
   "source": [
    "* 텍스트 파일로 저장해줍니다."
   ]
  },
  {
   "cell_type": "code",
   "execution_count": 30,
   "metadata": {
    "collapsed": true
   },
   "outputs": [],
   "source": [
    "with open('train.txt', 'wb') as file:\n",
    "    pickle.dump(train,file)\n",
    "    \n",
    "with open('test.txt', 'wb') as file:\n",
    "    pickle.dump(test,file)"
   ]
  },
  {
   "cell_type": "markdown",
   "metadata": {},
   "source": [
    "#### Naver_news_classification_part2 에서 계속 >"
   ]
  }
 ],
 "metadata": {
  "kernelspec": {
   "display_name": "Python 3",
   "language": "python",
   "name": "python3"
  },
  "language_info": {
   "codemirror_mode": {
    "name": "ipython",
    "version": 3
   },
   "file_extension": ".py",
   "mimetype": "text/x-python",
   "name": "python",
   "nbconvert_exporter": "python",
   "pygments_lexer": "ipython3",
   "version": "3.6.3"
  }
 },
 "nbformat": 4,
 "nbformat_minor": 2
}
