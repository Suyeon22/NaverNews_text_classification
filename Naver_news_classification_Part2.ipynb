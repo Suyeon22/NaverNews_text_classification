{
 "cells": [
  {
   "cell_type": "markdown",
   "metadata": {},
   "source": [
    "# 2-2. Doc2vec Model Building & Training\n",
    "doc2vec은 단어와 레이블에 대한 표현을 동시에 학습합니다."
   ]
  },
  {
   "cell_type": "code",
   "execution_count": 1,
   "metadata": {
    "collapsed": true
   },
   "outputs": [],
   "source": [
    "import pickle\n",
    "import pandas as pd\n",
    "from pandas import DataFrame as df\n",
    "from collections import namedtuple\n",
    "from gensim.models import doc2vec"
   ]
  },
  {
   "cell_type": "markdown",
   "metadata": {},
   "source": [
    "#### 앞서 저장한 train, test 데이터를 불러옵니다."
   ]
  },
  {
   "cell_type": "code",
   "execution_count": 2,
   "metadata": {
    "collapsed": true
   },
   "outputs": [],
   "source": [
    "with open('train.txt', 'rb') as f:\n",
    "    train = pickle.load(f)\n",
    "    \n",
    "with open('test.txt', 'rb') as f:\n",
    "    test = pickle.load(f)"
   ]
  },
  {
   "cell_type": "code",
   "execution_count": 3,
   "metadata": {},
   "outputs": [
    {
     "name": "stdout",
     "output_type": "stream",
     "text": [
      "7756\n",
      "1940\n"
     ]
    }
   ],
   "source": [
    "print(len(train))\n",
    "print(len(test))"
   ]
  },
  {
   "cell_type": "markdown",
   "metadata": {
    "collapsed": true
   },
   "source": [
    "#### namedtuple 형태로 변환해줍니다."
   ]
  },
  {
   "cell_type": "code",
   "execution_count": 4,
   "metadata": {
    "collapsed": true
   },
   "outputs": [],
   "source": [
    "from collections import namedtuple\n",
    "TaggedDocument = namedtuple('TaggedDocument', 'words tags')\n",
    "\n",
    "tagged_train = [TaggedDocument(d, [c]) for d, c in train]\n",
    "tagged_test = [TaggedDocument(d, [c]) for d, c in test]"
   ]
  },
  {
   "cell_type": "code",
   "execution_count": 5,
   "metadata": {},
   "outputs": [
    {
     "data": {
      "text/html": [
       "<div>\n",
       "<style>\n",
       "    .dataframe thead tr:only-child th {\n",
       "        text-align: right;\n",
       "    }\n",
       "\n",
       "    .dataframe thead th {\n",
       "        text-align: left;\n",
       "    }\n",
       "\n",
       "    .dataframe tbody tr th {\n",
       "        vertical-align: top;\n",
       "    }\n",
       "</style>\n",
       "<table border=\"1\" class=\"dataframe\">\n",
       "  <thead>\n",
       "    <tr style=\"text-align: right;\">\n",
       "      <th></th>\n",
       "      <th>words</th>\n",
       "      <th>tags</th>\n",
       "    </tr>\n",
       "  </thead>\n",
       "  <tbody>\n",
       "    <tr>\n",
       "      <th>0</th>\n",
       "      <td>[눈/Noun, 내리다/Verb, 서울/Noun, 용산구/Noun, 이태원로/Nou...</td>\n",
       "      <td>[2]</td>\n",
       "    </tr>\n",
       "    <tr>\n",
       "      <th>1</th>\n",
       "      <td>[알다/Verb, 장기/Noun, 되다/Verb, 경기/Noun, 침체/Noun, ...</td>\n",
       "      <td>[2]</td>\n",
       "    </tr>\n",
       "    <tr>\n",
       "      <th>2</th>\n",
       "      <td>[밝다/Verb, 표정/Noun, 악수/Noun, 하다/Verb, 하다/Verb, ...</td>\n",
       "      <td>[0]</td>\n",
       "    </tr>\n",
       "    <tr>\n",
       "      <th>3</th>\n",
       "      <td>[중국/Noun, 환구/Noun, 시보/Noun, 인/Noun, 민망/Noun, 다...</td>\n",
       "      <td>[4]</td>\n",
       "    </tr>\n",
       "    <tr>\n",
       "      <th>4</th>\n",
       "      <td>[월미은하레일/Noun, 연합뉴스/Noun, 자료/Noun, 사진/Noun, 월미은...</td>\n",
       "      <td>[3]</td>\n",
       "    </tr>\n",
       "    <tr>\n",
       "      <th>5</th>\n",
       "      <td>[차/Noun, 산업혁명/Noun, 선도/Noun, 기반/Noun, 구축/Noun,...</td>\n",
       "      <td>[5]</td>\n",
       "    </tr>\n",
       "    <tr>\n",
       "      <th>6</th>\n",
       "      <td>[김포공항/Noun, 환경미화원/Noun, 뉴스/Noun, News/Alpha, 박...</td>\n",
       "      <td>[2]</td>\n",
       "    </tr>\n",
       "    <tr>\n",
       "      <th>7</th>\n",
       "      <td>[향원정/Noun, 취향/Noun, 교/Noun, 연합뉴스/Noun, 자료/Noun...</td>\n",
       "      <td>[3]</td>\n",
       "    </tr>\n",
       "    <tr>\n",
       "      <th>8</th>\n",
       "      <td>[국내/Noun, 예약/Noun, 판매/Noun, 반응/Noun, 시들다/Verb,...</td>\n",
       "      <td>[5]</td>\n",
       "    </tr>\n",
       "    <tr>\n",
       "      <th>9</th>\n",
       "      <td>[고동진/Noun, 삼성/Noun, 전자/Noun, 무선/Noun, 사업/Noun,...</td>\n",
       "      <td>[5]</td>\n",
       "    </tr>\n",
       "    <tr>\n",
       "      <th>10</th>\n",
       "      <td>[동영상/Noun, 뉴스/Noun, 앵커/Noun, 지금/Noun, JTBC/Alp...</td>\n",
       "      <td>[0]</td>\n",
       "    </tr>\n",
       "    <tr>\n",
       "      <th>11</th>\n",
       "      <td>[동아일보/Noun, 예/Noun, 선생님/Noun, 하다/Verb, 가지/Noun...</td>\n",
       "      <td>[0]</td>\n",
       "    </tr>\n",
       "    <tr>\n",
       "      <th>12</th>\n",
       "      <td>[돌잔치/Noun, 집들이/Noun, 송년회/Noun, 같다/Adjective, 모...</td>\n",
       "      <td>[3]</td>\n",
       "    </tr>\n",
       "    <tr>\n",
       "      <th>13</th>\n",
       "      <td>[갤럭시/Noun, 노트/Noun, 삼성/Noun, 전자/Noun, 제공/Noun,...</td>\n",
       "      <td>[5]</td>\n",
       "    </tr>\n",
       "    <tr>\n",
       "      <th>14</th>\n",
       "      <td>[박근혜정부/Noun, 청와대/Noun, 세월호/Noun, 참사/Noun, 당시/N...</td>\n",
       "      <td>[0]</td>\n",
       "    </tr>\n",
       "    <tr>\n",
       "      <th>15</th>\n",
       "      <td>[지난해/Noun, 월/Noun, 초/Noun, 서울/Noun, 하다/Verb, 도...</td>\n",
       "      <td>[1]</td>\n",
       "    </tr>\n",
       "    <tr>\n",
       "      <th>16</th>\n",
       "      <td>[스마트폰/Noun, 이용/Noun, 하다/Verb, 동영상/Noun, 감상/Nou...</td>\n",
       "      <td>[5]</td>\n",
       "    </tr>\n",
       "    <tr>\n",
       "      <th>17</th>\n",
       "      <td>[PICK/Alpha, 안내/Noun, 해당/Noun, 언론사/Noun, 채널/No...</td>\n",
       "      <td>[2]</td>\n",
       "    </tr>\n",
       "    <tr>\n",
       "      <th>18</th>\n",
       "      <td>[목포/Noun, 뉴시스/Noun, 류형/Noun, 근/Noun, 기자/Noun, ...</td>\n",
       "      <td>[2]</td>\n",
       "    </tr>\n",
       "    <tr>\n",
       "      <th>19</th>\n",
       "      <td>[미래창조과학부/Noun, 우정/Noun, 사업/Noun, 본부/Noun, 아파트/...</td>\n",
       "      <td>[1]</td>\n",
       "    </tr>\n",
       "    <tr>\n",
       "      <th>20</th>\n",
       "      <td>[박성진/Noun, 중소/Noun, 벤처기업/Noun, 부/Noun, 장관/Noun...</td>\n",
       "      <td>[0]</td>\n",
       "    </tr>\n",
       "    <tr>\n",
       "      <th>21</th>\n",
       "      <td>[아시아/Noun, 경제/Noun, 조유진/Noun, 기자/Noun, 대한항공/No...</td>\n",
       "      <td>[3]</td>\n",
       "    </tr>\n",
       "    <tr>\n",
       "      <th>22</th>\n",
       "      <td>[김성태/Noun, 한국/Noun, 원내대표/Noun, 일/Noun, 앞/Noun,...</td>\n",
       "      <td>[0]</td>\n",
       "    </tr>\n",
       "    <tr>\n",
       "      <th>23</th>\n",
       "      <td>[스포츠/Noun, 연예/Noun, IT/Alpha, 과학/Noun, 세계/Noun...</td>\n",
       "      <td>[4]</td>\n",
       "    </tr>\n",
       "    <tr>\n",
       "      <th>24</th>\n",
       "      <td>[서울/Noun, 뉴시스/Noun, 박대/Noun, 기자/Noun, 서울시/Noun...</td>\n",
       "      <td>[3]</td>\n",
       "    </tr>\n",
       "    <tr>\n",
       "      <th>25</th>\n",
       "      <td>[글꼴/Noun, 선택/Noun, 본문/Noun, 텍스트/Noun, 작다/Adjec...</td>\n",
       "      <td>[3]</td>\n",
       "    </tr>\n",
       "    <tr>\n",
       "      <th>26</th>\n",
       "      <td>[얼마/Noun, 전/Noun, 서울/Noun, 중구/Noun, 있다/Adjecti...</td>\n",
       "      <td>[2]</td>\n",
       "    </tr>\n",
       "    <tr>\n",
       "      <th>27</th>\n",
       "      <td>[동영상/Noun, 뉴스/Noun, 앵커/Noun, 오늘/Noun, 전국/Noun,...</td>\n",
       "      <td>[3]</td>\n",
       "    </tr>\n",
       "    <tr>\n",
       "      <th>28</th>\n",
       "      <td>[아시아/Noun, 경제/Noun, 조유진/Noun, 기자/Noun, 중국/Noun...</td>\n",
       "      <td>[3]</td>\n",
       "    </tr>\n",
       "    <tr>\n",
       "      <th>29</th>\n",
       "      <td>[디지털/Noun, 데/Noun, 일리/Noun, 윤상/Noun, 호기/Noun, ...</td>\n",
       "      <td>[5]</td>\n",
       "    </tr>\n",
       "    <tr>\n",
       "      <th>...</th>\n",
       "      <td>...</td>\n",
       "      <td>...</td>\n",
       "    </tr>\n",
       "    <tr>\n",
       "      <th>1910</th>\n",
       "      <td>[오전/Noun, 시/Noun, 분/Noun, 한국/Noun, 시간/Noun, 남미...</td>\n",
       "      <td>[5]</td>\n",
       "    </tr>\n",
       "    <tr>\n",
       "      <th>1911</th>\n",
       "      <td>[아시아/Noun, 경제/Noun, 임/Noun, 온유/Noun, 기자/Noun, ...</td>\n",
       "      <td>[5]</td>\n",
       "    </tr>\n",
       "    <tr>\n",
       "      <th>1912</th>\n",
       "      <td>[전남/Noun, 광양항/Noun, 컨테이너/Noun, 부두/Noun, 촬영/Nou...</td>\n",
       "      <td>[1]</td>\n",
       "    </tr>\n",
       "    <tr>\n",
       "      <th>1913</th>\n",
       "      <td>[동영상/Noun, 뉴스/Noun, 앵커/Noun, 국민의당/Noun, 발표/Nou...</td>\n",
       "      <td>[0]</td>\n",
       "    </tr>\n",
       "    <tr>\n",
       "      <th>1914</th>\n",
       "      <td>[서울/Noun, 신문/Noun, 나우/Noun, 뉴스/Noun, 유럽/Noun, ...</td>\n",
       "      <td>[5]</td>\n",
       "    </tr>\n",
       "    <tr>\n",
       "      <th>1915</th>\n",
       "      <td>[한일/Noun, 위안부/Noun, 합의/Noun, 재/Noun, 협상/Noun, ...</td>\n",
       "      <td>[4]</td>\n",
       "    </tr>\n",
       "    <tr>\n",
       "      <th>1916</th>\n",
       "      <td>[포켓몬/Noun, 고/Noun, 개발/Noun, 사/Noun, 나/Noun, 이언...</td>\n",
       "      <td>[5]</td>\n",
       "    </tr>\n",
       "    <tr>\n",
       "      <th>1917</th>\n",
       "      <td>[리니지/Noun, M/Alpha, 모바일/Noun, 마켓/Noun, 매출/Noun...</td>\n",
       "      <td>[5]</td>\n",
       "    </tr>\n",
       "    <tr>\n",
       "      <th>1918</th>\n",
       "      <td>[동영상/Noun, 뉴스/Noun, 일본/Noun, 요즘/Noun, 프로/Noun,...</td>\n",
       "      <td>[4]</td>\n",
       "    </tr>\n",
       "    <tr>\n",
       "      <th>1919</th>\n",
       "      <td>[로힝야족/Noun, 세/Noun, 소녀/Noun, 쿠르시/Noun, 신원/Noun...</td>\n",
       "      <td>[4]</td>\n",
       "    </tr>\n",
       "    <tr>\n",
       "      <th>1920</th>\n",
       "      <td>[일/Noun, 오후/Noun, 경북/Noun, 포항시/Noun, 하다/Verb, ...</td>\n",
       "      <td>[3]</td>\n",
       "    </tr>\n",
       "    <tr>\n",
       "      <th>1921</th>\n",
       "      <td>[채식주의자/Noun, 되다/Verb, 가끔/Noun, 고기/Noun, 없다/Adj...</td>\n",
       "      <td>[3]</td>\n",
       "    </tr>\n",
       "    <tr>\n",
       "      <th>1922</th>\n",
       "      <td>[주점/Noun, 쉬다/Verb, 먹다/Verb, 수/Noun, 있다/Adjecti...</td>\n",
       "      <td>[3]</td>\n",
       "    </tr>\n",
       "    <tr>\n",
       "      <th>1923</th>\n",
       "      <td>[제주/Noun, 항/Noun, 여객/Noun, 국제/Noun, 터미널/Noun, ...</td>\n",
       "      <td>[3]</td>\n",
       "    </tr>\n",
       "    <tr>\n",
       "      <th>1924</th>\n",
       "      <td>[추락사고/Noun, 현장/Noun, 수습/Noun, 하다/Verb, 태국/Noun...</td>\n",
       "      <td>[4]</td>\n",
       "    </tr>\n",
       "    <tr>\n",
       "      <th>1925</th>\n",
       "      <td>[머니투데이/Noun, 임동욱/Noun, 기자/Noun, 상보/Noun, 년/Nou...</td>\n",
       "      <td>[1]</td>\n",
       "    </tr>\n",
       "    <tr>\n",
       "      <th>1926</th>\n",
       "      <td>[송영/Noun, 무/Noun, 국방부/Noun, 장관/Noun, 후보자/Noun,...</td>\n",
       "      <td>[0]</td>\n",
       "    </tr>\n",
       "    <tr>\n",
       "      <th>1927</th>\n",
       "      <td>[러시아/Noun, 견제/Noun, 위해/Noun, 리투아니아/Noun, 파병/No...</td>\n",
       "      <td>[4]</td>\n",
       "    </tr>\n",
       "    <tr>\n",
       "      <th>1928</th>\n",
       "      <td>[서울/Noun, 뉴시스/Noun, 국제/Noun, 해커/Noun, 집단/Noun,...</td>\n",
       "      <td>[5]</td>\n",
       "    </tr>\n",
       "    <tr>\n",
       "      <th>1929</th>\n",
       "      <td>[영국/Noun, 파이낸셜타임스/Noun, 중국/Noun, 갑부/Noun, 홍콩/N...</td>\n",
       "      <td>[4]</td>\n",
       "    </tr>\n",
       "    <tr>\n",
       "      <th>1930</th>\n",
       "      <td>[동아일보/Noun, 나/Noun, 아웃/Noun, 제적/Noun, 당하다/Adje...</td>\n",
       "      <td>[0]</td>\n",
       "    </tr>\n",
       "    <tr>\n",
       "      <th>1931</th>\n",
       "      <td>[불기둥/Noun, 변하다/Adjective, 목탑/Noun, 펑/Noun, 파이/...</td>\n",
       "      <td>[4]</td>\n",
       "    </tr>\n",
       "    <tr>\n",
       "      <th>1932</th>\n",
       "      <td>[송희경/Noun, 의원/Noun, 오른쪽/Noun, 이/Noun, 소형/Noun,...</td>\n",
       "      <td>[5]</td>\n",
       "    </tr>\n",
       "    <tr>\n",
       "      <th>1933</th>\n",
       "      <td>[화웨이/Noun, 삼성/Noun, 특허/Noun, 소송/Noun, 텅쉰망/Noun...</td>\n",
       "      <td>[5]</td>\n",
       "    </tr>\n",
       "    <tr>\n",
       "      <th>1934</th>\n",
       "      <td>[취업/Noun, 준비/Noun, 생/Noun, 김모/Noun, 씨/Noun, 일자...</td>\n",
       "      <td>[1]</td>\n",
       "    </tr>\n",
       "    <tr>\n",
       "      <th>1935</th>\n",
       "      <td>[지난해/Noun, 월/Noun, 치르다/Verb, 미국/Noun, 대선/Noun,...</td>\n",
       "      <td>[5]</td>\n",
       "    </tr>\n",
       "    <tr>\n",
       "      <th>1936</th>\n",
       "      <td>[필리핀/Noun, 마닐라/Noun, 하다/Verb, 호텔/Noun, 카지노/Nou...</td>\n",
       "      <td>[4]</td>\n",
       "    </tr>\n",
       "    <tr>\n",
       "      <th>1937</th>\n",
       "      <td>[일/Noun, 오후/Noun, 경남/Noun, 창녕군/Noun, 고암면/Noun,...</td>\n",
       "      <td>[2]</td>\n",
       "    </tr>\n",
       "    <tr>\n",
       "      <th>1938</th>\n",
       "      <td>[서울/Noun, 뉴시스/Noun, 임태훈/Noun, 기자/Noun, 박근혜/Nou...</td>\n",
       "      <td>[0]</td>\n",
       "    </tr>\n",
       "    <tr>\n",
       "      <th>1939</th>\n",
       "      <td>[PICK/Alpha, 안내/Noun, 해당/Noun, 언론사/Noun, 채널/No...</td>\n",
       "      <td>[2]</td>\n",
       "    </tr>\n",
       "  </tbody>\n",
       "</table>\n",
       "<p>1940 rows × 2 columns</p>\n",
       "</div>"
      ],
      "text/plain": [
       "                                                  words tags\n",
       "0     [눈/Noun, 내리다/Verb, 서울/Noun, 용산구/Noun, 이태원로/Nou...  [2]\n",
       "1     [알다/Verb, 장기/Noun, 되다/Verb, 경기/Noun, 침체/Noun, ...  [2]\n",
       "2     [밝다/Verb, 표정/Noun, 악수/Noun, 하다/Verb, 하다/Verb, ...  [0]\n",
       "3     [중국/Noun, 환구/Noun, 시보/Noun, 인/Noun, 민망/Noun, 다...  [4]\n",
       "4     [월미은하레일/Noun, 연합뉴스/Noun, 자료/Noun, 사진/Noun, 월미은...  [3]\n",
       "5     [차/Noun, 산업혁명/Noun, 선도/Noun, 기반/Noun, 구축/Noun,...  [5]\n",
       "6     [김포공항/Noun, 환경미화원/Noun, 뉴스/Noun, News/Alpha, 박...  [2]\n",
       "7     [향원정/Noun, 취향/Noun, 교/Noun, 연합뉴스/Noun, 자료/Noun...  [3]\n",
       "8     [국내/Noun, 예약/Noun, 판매/Noun, 반응/Noun, 시들다/Verb,...  [5]\n",
       "9     [고동진/Noun, 삼성/Noun, 전자/Noun, 무선/Noun, 사업/Noun,...  [5]\n",
       "10    [동영상/Noun, 뉴스/Noun, 앵커/Noun, 지금/Noun, JTBC/Alp...  [0]\n",
       "11    [동아일보/Noun, 예/Noun, 선생님/Noun, 하다/Verb, 가지/Noun...  [0]\n",
       "12    [돌잔치/Noun, 집들이/Noun, 송년회/Noun, 같다/Adjective, 모...  [3]\n",
       "13    [갤럭시/Noun, 노트/Noun, 삼성/Noun, 전자/Noun, 제공/Noun,...  [5]\n",
       "14    [박근혜정부/Noun, 청와대/Noun, 세월호/Noun, 참사/Noun, 당시/N...  [0]\n",
       "15    [지난해/Noun, 월/Noun, 초/Noun, 서울/Noun, 하다/Verb, 도...  [1]\n",
       "16    [스마트폰/Noun, 이용/Noun, 하다/Verb, 동영상/Noun, 감상/Nou...  [5]\n",
       "17    [PICK/Alpha, 안내/Noun, 해당/Noun, 언론사/Noun, 채널/No...  [2]\n",
       "18    [목포/Noun, 뉴시스/Noun, 류형/Noun, 근/Noun, 기자/Noun, ...  [2]\n",
       "19    [미래창조과학부/Noun, 우정/Noun, 사업/Noun, 본부/Noun, 아파트/...  [1]\n",
       "20    [박성진/Noun, 중소/Noun, 벤처기업/Noun, 부/Noun, 장관/Noun...  [0]\n",
       "21    [아시아/Noun, 경제/Noun, 조유진/Noun, 기자/Noun, 대한항공/No...  [3]\n",
       "22    [김성태/Noun, 한국/Noun, 원내대표/Noun, 일/Noun, 앞/Noun,...  [0]\n",
       "23    [스포츠/Noun, 연예/Noun, IT/Alpha, 과학/Noun, 세계/Noun...  [4]\n",
       "24    [서울/Noun, 뉴시스/Noun, 박대/Noun, 기자/Noun, 서울시/Noun...  [3]\n",
       "25    [글꼴/Noun, 선택/Noun, 본문/Noun, 텍스트/Noun, 작다/Adjec...  [3]\n",
       "26    [얼마/Noun, 전/Noun, 서울/Noun, 중구/Noun, 있다/Adjecti...  [2]\n",
       "27    [동영상/Noun, 뉴스/Noun, 앵커/Noun, 오늘/Noun, 전국/Noun,...  [3]\n",
       "28    [아시아/Noun, 경제/Noun, 조유진/Noun, 기자/Noun, 중국/Noun...  [3]\n",
       "29    [디지털/Noun, 데/Noun, 일리/Noun, 윤상/Noun, 호기/Noun, ...  [5]\n",
       "...                                                 ...  ...\n",
       "1910  [오전/Noun, 시/Noun, 분/Noun, 한국/Noun, 시간/Noun, 남미...  [5]\n",
       "1911  [아시아/Noun, 경제/Noun, 임/Noun, 온유/Noun, 기자/Noun, ...  [5]\n",
       "1912  [전남/Noun, 광양항/Noun, 컨테이너/Noun, 부두/Noun, 촬영/Nou...  [1]\n",
       "1913  [동영상/Noun, 뉴스/Noun, 앵커/Noun, 국민의당/Noun, 발표/Nou...  [0]\n",
       "1914  [서울/Noun, 신문/Noun, 나우/Noun, 뉴스/Noun, 유럽/Noun, ...  [5]\n",
       "1915  [한일/Noun, 위안부/Noun, 합의/Noun, 재/Noun, 협상/Noun, ...  [4]\n",
       "1916  [포켓몬/Noun, 고/Noun, 개발/Noun, 사/Noun, 나/Noun, 이언...  [5]\n",
       "1917  [리니지/Noun, M/Alpha, 모바일/Noun, 마켓/Noun, 매출/Noun...  [5]\n",
       "1918  [동영상/Noun, 뉴스/Noun, 일본/Noun, 요즘/Noun, 프로/Noun,...  [4]\n",
       "1919  [로힝야족/Noun, 세/Noun, 소녀/Noun, 쿠르시/Noun, 신원/Noun...  [4]\n",
       "1920  [일/Noun, 오후/Noun, 경북/Noun, 포항시/Noun, 하다/Verb, ...  [3]\n",
       "1921  [채식주의자/Noun, 되다/Verb, 가끔/Noun, 고기/Noun, 없다/Adj...  [3]\n",
       "1922  [주점/Noun, 쉬다/Verb, 먹다/Verb, 수/Noun, 있다/Adjecti...  [3]\n",
       "1923  [제주/Noun, 항/Noun, 여객/Noun, 국제/Noun, 터미널/Noun, ...  [3]\n",
       "1924  [추락사고/Noun, 현장/Noun, 수습/Noun, 하다/Verb, 태국/Noun...  [4]\n",
       "1925  [머니투데이/Noun, 임동욱/Noun, 기자/Noun, 상보/Noun, 년/Nou...  [1]\n",
       "1926  [송영/Noun, 무/Noun, 국방부/Noun, 장관/Noun, 후보자/Noun,...  [0]\n",
       "1927  [러시아/Noun, 견제/Noun, 위해/Noun, 리투아니아/Noun, 파병/No...  [4]\n",
       "1928  [서울/Noun, 뉴시스/Noun, 국제/Noun, 해커/Noun, 집단/Noun,...  [5]\n",
       "1929  [영국/Noun, 파이낸셜타임스/Noun, 중국/Noun, 갑부/Noun, 홍콩/N...  [4]\n",
       "1930  [동아일보/Noun, 나/Noun, 아웃/Noun, 제적/Noun, 당하다/Adje...  [0]\n",
       "1931  [불기둥/Noun, 변하다/Adjective, 목탑/Noun, 펑/Noun, 파이/...  [4]\n",
       "1932  [송희경/Noun, 의원/Noun, 오른쪽/Noun, 이/Noun, 소형/Noun,...  [5]\n",
       "1933  [화웨이/Noun, 삼성/Noun, 특허/Noun, 소송/Noun, 텅쉰망/Noun...  [5]\n",
       "1934  [취업/Noun, 준비/Noun, 생/Noun, 김모/Noun, 씨/Noun, 일자...  [1]\n",
       "1935  [지난해/Noun, 월/Noun, 치르다/Verb, 미국/Noun, 대선/Noun,...  [5]\n",
       "1936  [필리핀/Noun, 마닐라/Noun, 하다/Verb, 호텔/Noun, 카지노/Nou...  [4]\n",
       "1937  [일/Noun, 오후/Noun, 경남/Noun, 창녕군/Noun, 고암면/Noun,...  [2]\n",
       "1938  [서울/Noun, 뉴시스/Noun, 임태훈/Noun, 기자/Noun, 박근혜/Nou...  [0]\n",
       "1939  [PICK/Alpha, 안내/Noun, 해당/Noun, 언론사/Noun, 채널/No...  [2]\n",
       "\n",
       "[1940 rows x 2 columns]"
      ]
     },
     "execution_count": 5,
     "metadata": {},
     "output_type": "execute_result"
    }
   ],
   "source": [
    "df(tagged_test)"
   ]
  },
  {
   "cell_type": "markdown",
   "metadata": {},
   "source": [
    "## Doc2vec model building"
   ]
  },
  {
   "cell_type": "markdown",
   "metadata": {
    "collapsed": true
   },
   "source": [
    "#### hyper parameters\n",
    "* *alpha = 0.025*  :  the initial learning rate\n",
    "* *min_alpha = 0.001* :  min learning-rate\n",
    "* *min_count = 5* : 5번 이하 나온 단어 삭제\n",
    "* *sample=1e-5* : Subsampling Frequent Words (너무 많이 나온단어 빈도 줄이기)\n",
    "* *hs=0, negative = 5* : negative sampling\n",
    "* *iter = 10 *  : 20보다 10일 때 더 성능이 좋았음\n",
    "* *dbow_words=1* : 1이면 word-vector와 DBOW doc-vector를 함께 training 한다. default is 0 (faster training of doc-vectors only).\n",
    "* selected_POS = (Noun, Verb, Adjective, Alpha)"
   ]
  },
  {
   "cell_type": "code",
   "execution_count": 6,
   "metadata": {
    "collapsed": true
   },
   "outputs": [],
   "source": [
    "import multiprocessing\n",
    "cores = multiprocessing.cpu_count()  # 멀티 쓰레드"
   ]
  },
  {
   "cell_type": "markdown",
   "metadata": {},
   "source": [
    "## (1) PV-DM"
   ]
  },
  {
   "cell_type": "code",
   "execution_count": 7,
   "metadata": {
    "collapsed": true
   },
   "outputs": [],
   "source": [
    "# 모델 bulid\n",
    "DM_model1 = doc2vec.Doc2Vec( dm=1,  # PV-DM \n",
    "                            size=100, window=5,#the maximum distance between the predicted word and context words\n",
    "                            iter=10, min_count=5, alpha=0.025, min_alpha=0.001, seed=1234, workers=cores, # 멀티 쓰레드\n",
    "                            sample=1e-5,  hs=0, negative = 5 #negative = if > 0, negative sampling will be used (default)\n",
    "                           )\n",
    "\n",
    "DM_model2 = doc2vec.Doc2Vec( dm=1, size=100, window=10, dbow_words = 1,\n",
    "                           iter=10, min_count=5, alpha=0.025, min_alpha=0.001, seed=1234, workers=cores, sample=1e-5,  hs=0, negative = 5 )\n",
    "\n",
    "DM_model3 = doc2vec.Doc2Vec( dm=1, size=100, window=20, dbow_words = 1,\n",
    "                            iter=10, min_count=5, alpha=0.025, min_alpha=0.001, seed=1234, workers=cores, sample=1e-5,  hs=0, negative = 5 )\n",
    "\n",
    "DM_model4 = doc2vec.Doc2Vec( dm=1, size=300, window=5, dbow_words = 1,\n",
    "                            iter=10, min_count=5, alpha=0.025, min_alpha=0.001, seed=1234, workers=cores, sample=1e-5,  hs=0, negative = 5 )\n",
    "\n",
    "DM_model5 = doc2vec.Doc2Vec( dm=1, size=300, window=10,  dbow_words = 1,\n",
    "                            iter=10, min_count=5, alpha=0.025, min_alpha=0.001, seed=1234, workers=cores, sample=1e-5,  hs=0, negative = 5 )\n",
    "\n",
    "DM_model6 = doc2vec.Doc2Vec( dm=1, size=300, window=20, dbow_words = 1,\n",
    "                            iter=10, min_count=5, alpha=0.025, min_alpha=0.001, seed=1234, workers=cores, sample=1e-5,  hs=0, negative = 5 )"
   ]
  },
  {
   "cell_type": "code",
   "execution_count": 8,
   "metadata": {
    "collapsed": true
   },
   "outputs": [],
   "source": [
    "# 사전 구축\n",
    "DM_model1.build_vocab(tagged_train)\n",
    "DM_model2.build_vocab(tagged_train)\n",
    "DM_model3.build_vocab(tagged_train)\n",
    "DM_model4.build_vocab(tagged_train)\n",
    "DM_model5.build_vocab(tagged_train)\n",
    "DM_model6.build_vocab(tagged_train)"
   ]
  },
  {
   "cell_type": "code",
   "execution_count": 9,
   "metadata": {},
   "outputs": [
    {
     "data": {
      "text/plain": [
       "13248914"
      ]
     },
     "execution_count": 9,
     "metadata": {},
     "output_type": "execute_result"
    }
   ],
   "source": [
    "# 훈련 시작\n",
    "DM_model1.train(tagged_train, total_examples=len(tagged_train), epochs=DM_model1.iter)\n",
    "DM_model2.train(tagged_train, total_examples=len(tagged_train), epochs=DM_model2.iter)\n",
    "DM_model3.train(tagged_train, total_examples=len(tagged_train), epochs=DM_model3.iter)\n",
    "DM_model4.train(tagged_train, total_examples=len(tagged_train), epochs=DM_model4.iter)\n",
    "DM_model5.train(tagged_train, total_examples=len(tagged_train), epochs=DM_model5.iter)\n",
    "DM_model6.train(tagged_train, total_examples=len(tagged_train), epochs=DM_model6.iter)"
   ]
  },
  {
   "cell_type": "code",
   "execution_count": 10,
   "metadata": {
    "collapsed": true
   },
   "outputs": [],
   "source": [
    "# 모델 저장\n",
    "DM_model1.save(\"DM_model1.model\")\n",
    "DM_model2.save(\"DM_model2.model\")\n",
    "DM_model3.save(\"DM_model3.model\")\n",
    "DM_model4.save(\"DM_model4.model\")\n",
    "DM_model5.save(\"DM_model5.model\")\n",
    "DM_model6.save(\"DM_model6.model\")"
   ]
  },
  {
   "cell_type": "markdown",
   "metadata": {},
   "source": [
    "## (2) PV-DBOW"
   ]
  },
  {
   "cell_type": "code",
   "execution_count": 11,
   "metadata": {
    "collapsed": true
   },
   "outputs": [],
   "source": [
    "# 모델 bulid\n",
    "DBOW_model1 = doc2vec.Doc2Vec( dm=0, size=100, window=5, dbow_words = 1,\n",
    "                           iter = 10, min_count=5, alpha=0.025, min_alpha=0.001, seed=1234, workers=cores, sample=1e-5,  hs=0, negative = 5 )\n",
    "\n",
    "DBOW_model2 = doc2vec.Doc2Vec( dm=0, size=100, window=10, dbow_words = 1,\n",
    "                           iter=10, min_count=5, alpha=0.025, min_alpha=0.001, seed=1234, workers=cores, sample=1e-5,  hs=0, negative = 5 )\n",
    "\n",
    "DBOW_model3 = doc2vec.Doc2Vec( dm=0, size=100, window=20, dbow_words = 1,\n",
    "                            iter=10, min_count=5, alpha=0.025, min_alpha=0.001, seed=1234, workers=cores, sample=1e-5,  hs=0, negative = 5 )\n",
    "\n",
    "DBOW_model4 = doc2vec.Doc2Vec( dm=0, size=300, window=5, dbow_words = 1,\n",
    "                            iter=10, min_count=5, alpha=0.025, min_alpha=0.001, seed=1234, workers=cores, sample=1e-5,  hs=0, negative = 5 )\n",
    "\n",
    "DBOW_model5 = doc2vec.Doc2Vec( dm=0, size=300, window=10,  dbow_words = 1,\n",
    "                            iter=10, min_count=5, alpha=0.025, min_alpha=0.001, seed=1234, workers=cores, sample=1e-5,  hs=0, negative = 5 )\n",
    "\n",
    "DBOW_model6 = doc2vec.Doc2Vec( dm=0, size=300, window=20, dbow_words = 1,\n",
    "                            iter=10, min_count=5, alpha=0.025, min_alpha=0.001, seed=1234, workers=cores, sample=1e-5,  hs=0, negative = 5 )"
   ]
  },
  {
   "cell_type": "code",
   "execution_count": 12,
   "metadata": {
    "collapsed": true
   },
   "outputs": [],
   "source": [
    "# 사전 구축\n",
    "DBOW_model1.build_vocab(tagged_train)\n",
    "DBOW_model2.build_vocab(tagged_train)\n",
    "DBOW_model3.build_vocab(tagged_train)\n",
    "DBOW_model4.build_vocab(tagged_train)\n",
    "DBOW_model5.build_vocab(tagged_train)\n",
    "DBOW_model6.build_vocab(tagged_train)"
   ]
  },
  {
   "cell_type": "code",
   "execution_count": 13,
   "metadata": {},
   "outputs": [
    {
     "data": {
      "text/plain": [
       "13249105"
      ]
     },
     "execution_count": 13,
     "metadata": {},
     "output_type": "execute_result"
    }
   ],
   "source": [
    "# 훈련 시작\n",
    "DBOW_model1.train(tagged_train, total_examples=len(tagged_train), epochs=DBOW_model1.iter)\n",
    "DBOW_model2.train(tagged_train, total_examples=len(tagged_train), epochs=DBOW_model2.iter)\n",
    "DBOW_model3.train(tagged_train, total_examples=len(tagged_train), epochs=DBOW_model3.iter)\n",
    "DBOW_model4.train(tagged_train, total_examples=len(tagged_train), epochs=DBOW_model4.iter)\n",
    "DBOW_model5.train(tagged_train, total_examples=len(tagged_train), epochs=DBOW_model5.iter)\n",
    "DBOW_model6.train(tagged_train, total_examples=len(tagged_train), epochs=DBOW_model6.iter)"
   ]
  },
  {
   "cell_type": "code",
   "execution_count": 14,
   "metadata": {
    "collapsed": true
   },
   "outputs": [],
   "source": [
    "# 모델 저장\n",
    "DBOW_model1.save(\"DBOW_model1.model\")\n",
    "DBOW_model2.save(\"DBOW_model2.model\")\n",
    "DBOW_model3.save(\"DBOW_model3.model\")\n",
    "DBOW_model4.save(\"DBOW_model4.model\")\n",
    "DBOW_model5.save(\"DBOW_model5.model\")\n",
    "DBOW_model6.save(\"DBOW_model6.model\")"
   ]
  },
  {
   "cell_type": "markdown",
   "metadata": {},
   "source": [
    "#### 각 모델의 test code는 'D2V_models_test' 폴더에 저장되어있습니다."
   ]
  }
 ],
 "metadata": {
  "kernelspec": {
   "display_name": "Python 3",
   "language": "python",
   "name": "python3"
  },
  "language_info": {
   "codemirror_mode": {
    "name": "ipython",
    "version": 3
   },
   "file_extension": ".py",
   "mimetype": "text/x-python",
   "name": "python",
   "nbconvert_exporter": "python",
   "pygments_lexer": "ipython3",
   "version": "3.6.3"
  }
 },
 "nbformat": 4,
 "nbformat_minor": 2
}
