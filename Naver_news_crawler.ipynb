{
 "cells": [
  {
   "cell_type": "markdown",
   "metadata": {},
   "source": [
    "# 파이썬 크롤링 (beautifulsoup, selenium 활용)"
   ]
  },
  {
   "cell_type": "markdown",
   "metadata": {},
   "source": [
    "* **bs4를 활용한 크롤링**   \n",
    "    다음 [블로그](https://beomi.github.io/2017/01/20/HowToMakeWebCrawler/)를 참고하면 좋을 것 같습니다!"
   ]
  },
  {
   "cell_type": "markdown",
   "metadata": {},
   "source": [
    "* **selenium을 사용한 크롤링**   \n",
    "    beautifulsoup은 사용자 행동을 특정해서 데이터를 가져올 수 없다. 사용자의 행동을 동적으로 추가하려면 **selenium**이 필요하다.    \n",
    "    Selenium은 webdriver라는 것을 통해 디바이스에 설치된 브라우저들을 제어할 수 있다."
   ]
  },
  {
   "cell_type": "markdown",
   "metadata": {},
   "source": [
    "* **selenium 및 웹 드라이버 설치**   \n",
    "    1. selenium 설치 --> $ pip install selenium   \n",
    "    2. 웹 드라이버 설치 --> Chrome WebDriver 설치 (https://sites.google.com/a/chromium.org/chromedriver/downloads) 후 로컬에 저장, 압축 해제\n",
    "    3. 크롬드라이버의 위치(경로)를 나중에 Selenium 객체를 생성할 때 지정해준다."
   ]
  },
  {
   "cell_type": "markdown",
   "metadata": {},
   "source": [
    "## **0. Selenium 간단한 활용 예시**"
   ]
  },
  {
   "cell_type": "markdown",
   "metadata": {},
   "source": [
    "불러오기"
   ]
  },
  {
   "cell_type": "code",
   "execution_count": 1,
   "metadata": {
    "collapsed": true
   },
   "outputs": [],
   "source": [
    "from selenium import webdriver"
   ]
  },
  {
   "cell_type": "markdown",
   "metadata": {},
   "source": [
    "selenium의 webdriver로 크롬 브라우저를 실행"
   ]
  },
  {
   "cell_type": "code",
   "execution_count": 2,
   "metadata": {
    "collapsed": true
   },
   "outputs": [],
   "source": [
    "driver = webdriver.Chrome('/home/hufs/chromedriver') #  크롬드라이버 위치 지정"
   ]
  },
  {
   "cell_type": "markdown",
   "metadata": {},
   "source": [
    "Naver 에 접속한다."
   ]
  },
  {
   "cell_type": "code",
   "execution_count": 3,
   "metadata": {
    "collapsed": true
   },
   "outputs": [],
   "source": [
    "driver.get(\"http://www.naver.com\")"
   ]
  },
  {
   "cell_type": "markdown",
   "metadata": {},
   "source": [
    "검색창에 커서를 올린다."
   ]
  },
  {
   "cell_type": "code",
   "execution_count": 4,
   "metadata": {
    "collapsed": true
   },
   "outputs": [],
   "source": [
    "sch = driver.find_element_by_xpath('//*[@id=\"query\"]')"
   ]
  },
  {
   "cell_type": "markdown",
   "metadata": {},
   "source": [
    "검색어를 입력한다."
   ]
  },
  {
   "cell_type": "code",
   "execution_count": 5,
   "metadata": {
    "collapsed": true
   },
   "outputs": [],
   "source": [
    "sch.send_keys(\"Agilesoda\")"
   ]
  },
  {
   "cell_type": "markdown",
   "metadata": {},
   "source": [
    "검색을 실행한다."
   ]
  },
  {
   "cell_type": "code",
   "execution_count": 6,
   "metadata": {
    "collapsed": true
   },
   "outputs": [],
   "source": [
    "sch.submit()"
   ]
  },
  {
   "cell_type": "markdown",
   "metadata": {},
   "source": [
    "검색이 제대로 됐는지 확인한다."
   ]
  },
  {
   "cell_type": "code",
   "execution_count": 7,
   "metadata": {
    "collapsed": true
   },
   "outputs": [],
   "source": [
    "assert \"No results found.\" not in driver.page_source"
   ]
  },
  {
   "cell_type": "markdown",
   "metadata": {},
   "source": [
    "브라우저를 종료한다."
   ]
  },
  {
   "cell_type": "code",
   "execution_count": 8,
   "metadata": {
    "collapsed": true
   },
   "outputs": [],
   "source": [
    "driver.close()"
   ]
  },
  {
   "cell_type": "markdown",
   "metadata": {
    "collapsed": true
   },
   "source": [
    "## 1. 뉴스 기사 수집하기\n",
    "### 목표 : 네이버 뉴스 기사 데이터 수집   \n",
    "(http://news.naver.com/main/ranking/popularWeek.nhn?mid=etc&sid1=111)"
   ]
  },
  {
   "cell_type": "markdown",
   "metadata": {},
   "source": [
    "* 기사 본문과 제목 수집에는 newspaper 모듈[(참고)](http://excelsior-cjh.tistory.com/entry/06-Newspaper-%EB%AA%A8%EB%93%88%EC%9D%84-%EC%9D%B4%EC%9A%A9%ED%95%98%EC%97%AC-%EB%89%B4%EC%8A%A4-%EA%B8%B0%EC%82%AC-%ED%81%AC%EB%A1%A4%EB%A7%81%ED%95%98%EA%B8%B0)을 활용하였습니다.    \n",
    "* '주간 클릭' 상위 30개를 가져오는 코드입니다.   "
   ]
  },
  {
   "cell_type": "code",
   "execution_count": 9,
   "metadata": {
    "collapsed": true
   },
   "outputs": [],
   "source": [
    "from selenium import webdriver\n",
    "from bs4 import BeautifulSoup\n",
    "from urllib.request import urlopen\n",
    "from urllib.parse import urljoin\n",
    "from newspaper import Article\n",
    "import re\n",
    "import time\n",
    "import pandas as pd\n",
    "\n",
    "driver = webdriver.Chrome('/home/hufs/chromedriver') "
   ]
  },
  {
   "cell_type": "code",
   "execution_count": 10,
   "metadata": {},
   "outputs": [
    {
     "name": "stdout",
     "output_type": "stream",
     "text": [
      "Crawled: 北 \"서울을 위험에 빠뜨리지 않는 군사적 선택안은 없다\"\n",
      "Crawled: 北 개성공단 19곳 몰래 가동…정부 \"불법행위\"\n",
      "Crawled: [박수찬의 軍] 한반도 위기는 미국 군수산업 호황을 부른다\n",
      "Crawled: \"불과 1년만에\"···朴·최순실, 권력 정점에서 밑바닥 추락\n",
      "Crawled: 가속 붙은 국정원 수사…MB 사법처리까지 갈까\n",
      "Crawled: 北, '개성공단 의류공장 가동설'에 \"공장 더 힘차게 돌아갈 것\"\n",
      "Crawled: '北항공기 저공침투 막아라'…한미 軍, 첫 단거리방공훈련\n",
      "Crawled: 文, 北 동향 즉시 보고 받아…軍 '비상 태세'\n",
      "Crawled: '군부대 맞아?'...철원 총기사고 현장 가보니, 뻥~뚫린 軍 작전지역 '여전'\n",
      "Crawled: '공영방송 블랙리스트 의혹' 김재철 등 추석 후 '줄소환'\n",
      "Crawled: 文대통령, 교통방송 일일통신원 변신…\"졸음운전 안전띠는 휴식\"\n",
      "Crawled: 4년 만에 지방권력 바꾸는 내년 지방선거…여야에서 누가 뛰나\n",
      "Crawled: 열악한 환경에 승조원 70%, 잠수함 안 탄다\n",
      "Crawled: 한국형 3축 체계 완성할 무기 종류·도입 시기는\n",
      "Crawled: 엄현성 해군총장, 이지스함서 北 탄도미사일 작전 대응태세 점검\n",
      "Crawled: 사업단 해체 불구…4천t급 '핵잠 원자로' 기본설계 마쳤다\n",
      "Crawled: '최순실 게이트' 수사 착수 1년···검찰의 칼은 2R 돌입\n",
      "Crawled: “도비탄 아닌 직격탄 가능성” 파장 커지는 철원 총기 사고\n",
      "Crawled: 北 \"美 초강도 제재, 효과 기대하는 것은 어리석은 짓\"\n",
      "Crawled: [단독] 방사청 \"중고 치누크 헬기 도입 과정 문제 있었다\"\n",
      "Crawled: \"원유 의존성 없애자\"…제재 속 '에너지 자립' 고심하는 北\n",
      "Crawled: 文대통령, 트럼프 대통령에 위로전…\"비극적 총격사건 규탄\"\n",
      "Crawled: \"역대급 수소탄…\" 北 위협발언에 南 유행어 등장\n",
      "Crawled: \"盧·DJ정권, 적폐 없었겠느냐\" vs \"MB 포토라인에 설 것\"\n",
      "Crawled: 해마다 반복되는 '국군의날' 논란 왜?…국군의날 바뀔까\n",
      "Crawled: 정경두 합참의장, 연휴 첫날 최전방 시찰…\"적 도발시 강력응징\"\n",
      "Crawled: MB국정원, '문성근 합성사진 공작'에 도청감지장치도 가동\n",
      "Crawled: \"'좌파' 물든 젊은 검사들\"…MB국정원 '檢블랙리스트' 있나\n",
      "Crawled: \"北최선희, 러시아 국제회의서 美전직관리 접촉 예정\"\n",
      "Crawled: 文대통령 추석행보 野 반응…\"깜짝쇼\" vs \"잘한다\"\n",
      "Crawled: 자영업자 20% 연 1천만원도 못벌어…생존율도 갈수록 하락\n",
      "Crawled: 美 ITC 결정에 삼성·LG \"적극 대응\"… 미 언론도 \"삼성 공장 차질 우려\"\n",
      "Crawled: 자영업자 줄어도 '나홀로' 영세업자는 증가세…3년여만에 최대\n",
      "Crawled: 북한 광물자원 가치 3천200조 원…중국, 외국인 투자 '독식'\n",
      "Crawled: 서울 아파트값 다시 '들썩'… 추석 연휴 후 추가대책 나오나\n",
      "Crawled: 속절없는 휘발유값, 어느새 'L당 1500원' 눈앞 : 네이버 뉴스\n",
      "Crawled: [면세점의 눈물 ] 中 보따리상에 메인 업계 ··· 악화 되는 수익 : 네이버 뉴스\n",
      "Crawled: \"100원 도 안 써\" 짠돌이족 늘었다\n",
      "Crawled: 가상화폐 열풍 올라탄 일본…막는 한국\n",
      "Crawled: 고든 램지는 거짓말을 한 것일까\n",
      "Crawled: 주택담보대출 금리 1년만에 껑충…추석연휴 끝나면 또 오른다\n",
      "Crawled: 美에 가전공장까지 짓는데…삼성·LG \"ITC판정 실망, 적극대응\"(종합)\n",
      "Crawled: 1년새 국내 은행원 4천500명 짐쌌다…점포도 200개 문 닫아\n",
      "Crawled: [단독] 코이카, 퇴직금 안 주려고 전문가 60명 계약종료\n",
      "Crawled: 동대문시장·명동 거리 '썰렁'… 폭탄세일 행사장도 손님 10여명뿐\n",
      "Crawled: '내집마련 부담' 5년만에 최고…소득은 제자린데 집값만 올라\n",
      "Crawled: 한국 세탁기 정조준한 美ITC…삼성·LG 年 1조원 수출 흔들리나\n",
      "Crawled: [비트코인 열풍]①\"1일 50만원까지 환전\" 오프라인 거래소 가보니…\n",
      "Crawled: 삼성전자 3Q 영업익 추정치 \"천장 없다\"… 평균 14조 돌파, 15조원까지도\n",
      "Crawled: '추석 연휴의 경제학'···내수진작 효과는 얼마?\n",
      "Crawled: 옷장속에 깜빡?…지난해 자기앞수표 2천181억원 잠잤다\n",
      "Crawled: 추석 후 쏟아지는 부동산 대책···주택 시장 과열 잡을까\n",
      "Crawled: [주목받는 고향세]①日 작은 마을, 미야코노조의 성공 스토리\n",
      "Crawled: \"명절 인기 선물이었는데\"…어느새 참치캔, 판매량 '뚝'\n",
      "Crawled: 내우외환에 경제지표 온통 ‘빨간불’…당정청 ‘혁신성장’ 외치는 까닭\n",
      "Crawled: 1조 4천억 들인 차세대 발전소?…가동할수록 손실\n",
      "Crawled: [이슈플러스] 인구절벽 현실화… 추락하는 한국경제 잠재성장률\n",
      "Crawled: [한미FTA개정 산업계 파장]\"美오해 풀고…韓정부 돕자\" 경제계, 본격 대응착수\n",
      "Crawled: 가계가 해외서 1년간 쓴 돈 30조2천억…국내통신비 지출의 1.3배\n",
      "Crawled: 사드에 사라진 국경절 대목…2500억 날릴 듯\n",
      "Crawled: 아직도 '활활' 포항 가스 불기둥...공원으로 재탄생\n",
      "Crawled: \"왜 내 땅으로 다녀\"…마을길 막았다가 '벌금'\n",
      "Crawled: \"최순실 후원 빠지니 은퇴\" …손연재 비방 네티즌 벌금 30만원\n",
      "Crawled: 제주서 中관광객 두고간 물품 나눠 가진 면세점 직원 5명 덜미\n",
      "Crawled: [커버스토리 - 시월드의 불편한 추석]딸 같은 며느리? 그런 건 없어요\n",
      "Crawled: [S 스토리] 명절보다 여행… 형식은 내려놓고 자유를 짊어지다\n",
      "Crawled: 역대급 연휴의 역설… 학원가로 몰리는 1020\n",
      "Crawled: [단독] 10대 여종업원에게 혼쭐난 '편의점 강도'\n",
      "Crawled: 유아까지 코딩 열풍…SW수업 의무화에 사교육시장 '꿈틀'\n",
      "Crawled: 브레이크 ‘깜빡’…어설픈 주차에 놀이공원 비극\n",
      "Crawled: \"3분 쇼핑 다녀왔다\"…거짓 해명에 비난 '봇물'\n",
      "Crawled: 공무원, 민간보다 100시간 적게 일하고 돈 더 많이 받는다\n",
      "Crawled: 차례 대신 '호캉스' 즐기고 나들이 가고…달라진 추석\n",
      "Crawled: 불꽃 보겠다고… 올림픽대로 불법 점거한 시민들\n",
      "Crawled: \"외로워도 어쩌겠나\"…장기요양원 노인들의 쓸쓸한 추석\n",
      "Crawled: 불 끄느라 현관문 뜯은 소방관, 서울시가 보상금 지원\n",
      "Crawled: “가족 연락하고 싶은데 아무도 안 도와줘요” 어느 정신요양원의 추석\n",
      "Crawled: 사라진 여왕개미…'붉은 독개미' 어디까지 퍼졌나\n",
      "Crawled: “말벌ㆍ진드기 많다는데 안 가면 안돼요?”…세대간 ‘벌초 전쟁’\n",
      "Crawled: 정부, '살인개미' 발견 부산항 감만부두 12일까지 일제조사\n",
      "Crawled: 외래 붉은불개미 여왕은 어디에…당국 \"죽었을 가능성 크다\"\n",
      "Crawled: 담뱃값 인상이 1만4000명 목숨 살렸다\n",
      "Crawled: 청주서 20대 女간호사 아파트 8층서 떨어져 숨져\n",
      "Crawled: [이슈플러스] '살인 독개미' 비상인데…유입 경로도 못 찾은 정부\n",
      "Crawled: \"자살 의심\" 보험금 지급 안 한 보험사…법원 판결로 제동\n",
      "Crawled: 서로 다른 정치성향···\"명절에 싸움날까 조마조마\"\n",
      "Crawled: 힘들게 잡은 한국인 '마약 여왕'…1년째 송환 못 해\n",
      "Crawled: 골칫덩이 된 ‘평화의 상징’ 비둘기…포획퇴치냐, 보호구제냐\n",
      "Crawled: “직원들 착오” “조직 위해”… 부정 채용 ‘몸통’들의 변명\n",
      "Crawled: \"살인 개미 유출 막아라\"…부산항 컨테이너 야적장 초긴장\n",
      "Crawled: 귀성길 '18시간', 이제 찾아보기 어려운 이유\n",
      "Crawled: [라이프] \"아침엔 더 많이 들어간다?\" 알뜰 주유의 모든 것\n",
      "Crawled: 친정 차례 없애고, '시댁'은 추석에만... 나의 명절 대처법\n",
      "Crawled: 서해순 “이 모든 게 돈 때문…김광석 관련 일 더 관여 안할 것”\n",
      "Crawled: 훈민정음 상주본 소장자 국가 상대로 소송…9년간 공방\n",
      "Crawled: 6만 대 예측했는데…고속도로 하루 1만 대 통행\n",
      "Crawled: 성리학 명분 약한 '추석', 어떻게 한민족 최대 명절 됐을까\n",
      "Crawled: 붐비는 인천공항, 연일 '최다 출국'…고속도로는 원활\n",
      "Crawled: 추석은 원래 ‘하루’만 쉬는 날이었다?\n",
      "Crawled: 제주행 에어부산 난기류에 2번 회항…승객 220명 '공포의 5시간'\n",
      "Crawled: 100만 시민이 바라본 여의도 밤하늘 불꽃…환호성·박수\n",
      "Crawled: \"벌·뱀 많은 성묘길…응급처치요령 꼭 알아두세요\"\n",
      "Crawled: 공원이 된 고가도로 '서울로 7017', 방문객 500만명 돌파\n",
      "Crawled: [날씨] 오늘 반짝 더위…내일부터 찬바람\n",
      "Crawled: 티켓 팔고 '나 몰라라'…'공동 운항의 함정'\n",
      "Crawled: 고은과 하루키의 잔혹한 10월…차세대 작가들에 주목\n",
      "Crawled: 日帝가 옮긴 불상… “원래 고향 경주로”vs“권력상징 靑에 둬야”\n",
      "Crawled: 에어부산, 3시간 지연 도착··120여 탑승객 '항의 빗발'\n",
      "Crawled: [날씨] 비 전국으로 확대…서해·제주 강한 비바람\n",
      "Crawled: '사드 보복' 여파에 1∼8월 중국인 입국자 '반토막'\n",
      "Crawled: 고속도로 귀성길 정체 확산…전국 146㎞ 구간 '가다서다'\n",
      "Crawled: [그래픽뉴스]'아내의 남동생의 부인'을 어떻게 부를까? 친인척 호칭 총정리\n",
      "Crawled: [날씨] 오후에 제주부터 비…내일 전국으로 확대\n",
      "Crawled: 고양·용인·시흥 '2층 버스' 운행···경기지역 30대 추가 도입\n",
      "Crawled: 오늘 여의도서 불꽃축제… 교통통제 구간 확인하세요\n",
      "Crawled: \"얌체운전 꼼짝마\"…추석 고속도로 드론이 보고있다\n",
      "Crawled: 제주 유커 겨냥 관광업체 줄도산 위기…'바오젠 거리' 개명\n",
      "Crawled: 삼림욕에 골프까지… 여기? 고속道휴게소\n",
      "Crawled: [종합]제주공항 강풍 특보···항공기 200편 무더기 지연·결항 사태\n",
      "Crawled: [날씨] 맑고 쾌청한 휴일…내일부터 전국에 비\n",
      "Crawled: 라스베이거스 총격범, 수십억 자산 보유한 은퇴자… 범행 동기 오리무중\n",
      "Crawled: 美라스베이거스 역대최악 총기난사…50여명 사망·200여명 부상(종합2보)\n",
      "Crawled: 사상자 6백 명 육박 참사…범인은 부유한 은퇴자\n",
      "Crawled: 스페인 경찰, 카탈루냐 주민들에 고무총 발사…38명 부상\n",
      "Crawled: 카탈루냐 \"90% 독립 찬성\" vs 스페인 \"투표 인정 못해\"···양측 극한 대치\n",
      "Crawled: 북한 덕분에 미국 지하벙커 사업가들 웃는다\n",
      "Crawled: [종합2보]라스베이거스 총격 사망자 58명···트럼프 \"악 그 자체\"\n",
      "Crawled: \"트럼프 '시간낭비' 발언은 군사옵션 시사\"…틸러슨 사임할듯\n",
      "Crawled: [종합]올랜도 참사 이후 1년만에 최악의 총격사건···美 전역 충격에\n",
      "Crawled: 30명 구하고 목에 총탄…참극 속 몸 던진 의인들\n",
      "Crawled: 美 최악의 총기참사‥왜 이렇게 피해 커졌나\n",
      "Crawled: 美 라스베이거스서 무차별 총격…20여명 사망·100여명 부상(종합)\n",
      "Crawled: \"수에즈운하서 압수한 北무기…알고 보니 이집트가 구입\"\n",
      "Crawled: 美 최악 총기 참사에 최소 58명 사망…한인 8명 연락 안 돼\n",
      "Crawled: 야외 공연장 4만 관객 머리 위로 총탄 쏟아져… 일요일밤의 악몽\n",
      "Crawled: 틸러슨 발언 뒤집은 트럼프 “北 대화는 시간 낭비” 제재 전면전\n",
      "Crawled: 미국, 북 미사일 잔해 입수해 분석…\"부품 제조사 지원한 中은행 제재\"\n",
      "Crawled: 기내 음주난동 韓 치과의사, 미국서 징역 18개월형\n",
      "Crawled: 美 총기 난사범, CCTV도 설치…치밀한 계획 범행\n",
      "Crawled: 사람 잠들고깨는 '24시간 생체시계' 규명…美 연구진 노벨상(종합)\n",
      "Crawled: 음악에 섞인 '총격음'…'공포의 도가니'로 바뀐 콘서트장\n",
      "Crawled: \"범죄전력도, 테러연관도 없다\"…라스베이거스 총기난사 왜\n",
      "Crawled: 쏟아진 총알에 속수무책…'비명·공포' 순식간에 생지옥\n",
      "Crawled: 中 약속은 어디로?…옛 모습 잃고 사라지는 광복군 유적\n",
      "Crawled: 충돌사고 美 이지스함, '땜질' 후 싱가포르서 일본으로\n",
      "Crawled: \"라스베이거스 총격용의자 자살\" 범행 둘러싼 정황 속속\n",
      "Crawled: 트럼프, '멍청이' 발언 논란 틸러슨 \"완전히 신임\"(종합)\n",
      "Crawled: \"中학자들, 한반도 통일이 오히려 중국에 유리\"\n",
      "Crawled: 中 윈난에 소행성 낙하…공중서 540t 규모 폭발\n",
      "Crawled: [美 라스베이거스 총기 난사]피해 규모 수십배 키운'자동화 총기'주의보\n",
      "Crawled: 내일 지원금 상한제 사라진다…휴대전화 싸게 살 수 있나\n",
      "Crawled: \"내차 없어도 좋아\"…각국서 '로봇 택시' 개발 경쟁\n",
      "Crawled: 휴대폰 유심내장 'e심' 첫 도입…교체 불편 사라질까\n",
      "Crawled: \"아이폰8 배터리 부풀어 올라\" 대만, 일본 등에서 잇따라 문제 발생\n",
      "Crawled: '해적판'을 어찌할꼬…\"단속해 VS 놔둬라\" 유럽 논쟁\n",
      "Crawled: 아이폰X 얼굴·두뇌 다 삼성 부품 … 애플이 도시바 노린 배경\n",
      "Crawled: 10억달러 넘는 '유니콘 스타트업', 한국엔 쿠팡·옐로모바일 2개뿐\n",
      "Crawled: \"화성 적도에서 상당량 수소 발견…물 존재 가능성\"\n",
      "Crawled: 휴대폰값 100만원 시대···고급·중급·저가폰 무슨 차이가 있나\n",
      "Crawled: '50m 거리서 신분 확인'…中 '동태식별' 기술 개발\n",
      "Crawled: 삼성 부품판매 매출= '아이폰X > 갤S8'\n",
      "Crawled: 호구 잡혀서 더 낸 통신비 4조원, 통신기자의 ‘호갱 탈출법’\n",
      "Crawled: \"알고 씁시다\" 스마트폰 배터리 잘 충전하고 잘 쓰는 방법은\n",
      "Crawled: 방심했다간 통신비 폭탄…'데이터 다이어트' 어떻게?\n",
      "Crawled: \"AI 의사 '왓슨'의 의료사고…법적 책임은 인간 의사에게\"\n",
      "Crawled: 너무 복잡한 요금제…\"10명 중 8명은 잘 모르고 가입\"\n",
      "Crawled: 보조금 상한제 폐지…할인 경쟁 속 '공짜폰'도 재등장\n",
      "Crawled: \"아이폰8+, 역대 아이폰 중 가장 무겁고 두껍다\"\n",
      "Crawled: \"무료 공공와이파이 조심?\" 휴가철 보안수칙 살펴보니…\n",
      "Crawled: “제휴카드 쓰면 휴대폰 공짜라더니\"..실제론 40% 혜택?\n",
      "Crawled: [단독] 법원 “모두의마블, 부루마불 표절 아냐”\n",
      "Crawled: 3년만 '지원금 상한제' 폐지, KT '갤럭시J7'만 기존 상한 넘겨\n",
      "Crawled: 이동통신 3사, 단통법 시행 이후 ‘결합상품’ 위반행위 증가\n",
      "Crawled: 지원금상한제 폐지 후 첫날 번호이동 2만9천건…아직 '조용'\n",
      "Crawled: '폴더블 폰' 삼성보다 중국이 먼저…ZTE 17일 출시할듯\n",
      "Crawled: 사드로 한국방송 못하게 막곤…통째로 베끼는 중국\n",
      "Crawled: 애플發 '10월 보조금 대란' 오나\n",
      "Crawled: 갤노트8 출시 첫 달, 알뜰폰 직격탄..정부 행정지도에도 번호이동 '또 감소'\n",
      "Crawled: 상한제 폐지 첫날…중저가폰 '찔끔' 고가폰 '0'\n",
      "Crawled: 조종사 없는 무인여객기 시대 도래한다\n"
     ]
    }
   ],
   "source": [
    "# 날짜와 카테고리를 선택\n",
    "\n",
    "article_date = '1006'   # 1006, 1013, 1020, 1027, ... , 1229\n",
    "article_ctg = [100,101,102,103,104,105]  # 정치(100), 경제(101), 사회(102), 생활/문화(103), 세계(104), IT/과학(105)\n",
    "\n",
    "\n",
    "## 카테고리별로 자동 반복\n",
    "\n",
    "for ctg in article_ctg:\n",
    "    driver.get(\"http://news.naver.com/main/ranking/popularWeek.nhn?rankingType=popular_week&sectionId={}&date=2017{}\".format(\n",
    "        ctg, article_date))   # 카테고리와 날짜에 따라서 url 주소가 달라집니다.  # 주간 클릭 페이지로 이동    \n",
    "    html = driver.page_source\n",
    "    soup = BeautifulSoup(html, \"lxml\") \n",
    "    raw_lists = soup.find_all('dt')\n",
    "\n",
    "    url = []  \n",
    "    ## 카테고리 내에서 30개 기사마다 url 주소 다름\n",
    "    for i in range(len(raw_lists[:-1])):\n",
    "        child = raw_lists[i].findChildren() \n",
    "        url.append(child[0]['href'])\n",
    "\n",
    "\n",
    "    base_address = \"http://news.naver.com\"\n",
    "    for i in range(len(url)):      # 0~ 29 총 30개 기사마다 url 다름\n",
    "        url[i] = urljoin(base_address, url[i])   \n",
    "\n",
    "    data_list = []   \n",
    "    for i in range(0,30): # 1~30위 기사 추출 ---- By.  Newspaper module ----\n",
    "        ID = i\n",
    "        titles = []\n",
    "        body_content = []  \n",
    "        driver.get(url[i])      \n",
    "        time.sleep(1)\n",
    "        html = driver.page_source\n",
    "        soup = BeautifulSoup(html, \"html.parser\")  # 파싱할 문서를 전달합니다.\n",
    "        # 기사 제목 \n",
    "        temp = Article(url[i], language='ko')\n",
    "        temp.download()\n",
    "        temp.parse()\n",
    "        print(\"Crawled: \" + temp.title)\n",
    "        titles.append(temp.title)    # rbind!\n",
    "        # 기사 본문 \n",
    "        body_content.append(temp.text)\n",
    "        # file write\n",
    "        data = {'ID':ID, 'Category': ctg, 'Week' : article_date, 'Title':titles[0], 'Contents': body_content[0]}  # 기사 1개 write\n",
    "        data_list.append(data) # 기사 1개씩 덧붙이기\n",
    "    \n",
    "        df = pd.DataFrame(data_list, columns=['ID', 'Category','Week','Title','Contents'])\n",
    "        df.to_csv('Article{}_{}.txt'.format(ctg, article_date), sep=',', encoding='UTF-8')  ## 카테고리별로 text 파일이 저장됩니다!\n",
    "        \n",
    "driver.close()"
   ]
  },
  {
   "cell_type": "code",
   "execution_count": null,
   "metadata": {
    "collapsed": true
   },
   "outputs": [],
   "source": []
  }
 ],
 "metadata": {
  "kernelspec": {
   "display_name": "Python 3",
   "language": "python",
   "name": "python3"
  },
  "language_info": {
   "codemirror_mode": {
    "name": "ipython",
    "version": 3
   },
   "file_extension": ".py",
   "mimetype": "text/x-python",
   "name": "python",
   "nbconvert_exporter": "python",
   "pygments_lexer": "ipython3",
   "version": "3.6.3"
  }
 },
 "nbformat": 4,
 "nbformat_minor": 2
}
