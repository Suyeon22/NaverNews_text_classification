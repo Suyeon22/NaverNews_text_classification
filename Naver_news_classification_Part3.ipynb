{
 "cells": [
  {
   "cell_type": "markdown",
   "metadata": {},
   "source": [
    "# 2-4. 모델 선택하기\n",
    "DM, DBOW 에서 가장 Test Accuracy가 높은 두 모델을 load 하고, 임베딩이 잘 되었는지 확인합니다."
   ]
  },
  {
   "cell_type": "code",
   "execution_count": 1,
   "metadata": {
    "collapsed": true
   },
   "outputs": [],
   "source": [
    "from gensim.models import doc2vec"
   ]
  },
  {
   "cell_type": "code",
   "execution_count": 2,
   "metadata": {
    "collapsed": true
   },
   "outputs": [],
   "source": [
    "DM_model = doc2vec.Doc2Vec.load('DM_model1.model')\n",
    "DBOW_model = doc2vec.Doc2Vec.load('DBOW_model2.model')"
   ]
  },
  {
   "cell_type": "markdown",
   "metadata": {},
   "source": [
    "**DM_1**: embedding size=100, window=5, iter=10, min_count=5, seed=1234, sample=1e-5,  hs=0, negative=5   \n",
    "* Train Accuracy: 96.497 , Test Accuracy:84.124  \n",
    "\n",
    "**DBOW_2**: embedding size=100, window=10, iter=10, min_count=5, seed=1234, sample=1e-5,  hs=0, negative=5   \n",
    "* Train Accuracy: 96.649  **Test Accuracy:87.887**"
   ]
  },
  {
   "cell_type": "markdown",
   "metadata": {},
   "source": [
    "> ### DM_1 v.s. DBOW_2\n"
   ]
  },
  {
   "cell_type": "code",
   "execution_count": 3,
   "metadata": {
    "collapsed": true
   },
   "outputs": [],
   "source": [
    "from pprint import pprint"
   ]
  },
  {
   "cell_type": "code",
   "execution_count": 4,
   "metadata": {},
   "outputs": [
    {
     "name": "stdout",
     "output_type": "stream",
     "text": [
      "[('부적/Noun', 0.9614205956459045),\n",
      " ('조치/Noun', 0.960597574710846),\n",
      " ('합의/Noun', 0.960586428642273),\n",
      " ('종교/Noun', 0.9598228335380554),\n",
      " ('조처/Noun', 0.9594897031784058),\n",
      " ('임기/Noun', 0.9559819102287292),\n",
      " ('도출/Noun', 0.9531983137130737),\n",
      " ('정상화/Noun', 0.9516633749008179),\n",
      " ('개헌/Noun', 0.9511952996253967),\n",
      " ('워크숍/Noun', 0.9501523971557617)]\n"
     ]
    },
    {
     "name": "stderr",
     "output_type": "stream",
     "text": [
      "/home/hufs/anaconda3/lib/python3.6/site-packages/ipykernel_launcher.py:2: DeprecationWarning: Call to deprecated `most_similar` (Method will be removed in 4.0.0, use self.wv.most_similar() instead).\n",
      "  \n"
     ]
    }
   ],
   "source": [
    "# 정치\n",
    "pprint (DM_model.most_similar('정부/Noun'))"
   ]
  },
  {
   "cell_type": "code",
   "execution_count": 10,
   "metadata": {},
   "outputs": [
    {
     "name": "stdout",
     "output_type": "stream",
     "text": [
      "[('이찬우/Noun', 0.6910227537155151),\n",
      " ('추진/Noun', 0.6889540553092957),\n",
      " ('그린북/Noun', 0.6849755644798279),\n",
      " ('대책/Noun', 0.6763829588890076),\n",
      " ('새정부/Noun', 0.6753256320953369),\n",
      " ('기여분/Noun', 0.6615976691246033),\n",
      " ('원자력발전/Noun', 0.6595166921615601),\n",
      " ('안전판/Noun', 0.658061146736145),\n",
      " ('tbs/Alpha', 0.6534417271614075),\n",
      " ('지정은/Noun', 0.652519702911377)]\n"
     ]
    },
    {
     "name": "stderr",
     "output_type": "stream",
     "text": [
      "/home/hufs/anaconda3/lib/python3.6/site-packages/ipykernel_launcher.py:2: DeprecationWarning: Call to deprecated `most_similar` (Method will be removed in 4.0.0, use self.wv.most_similar() instead).\n",
      "  \n"
     ]
    }
   ],
   "source": [
    "# 정치\n",
    "pprint (DBOW_model.most_similar('정부/Noun'))"
   ]
  },
  {
   "cell_type": "code",
   "execution_count": 5,
   "metadata": {},
   "outputs": [
    {
     "name": "stdout",
     "output_type": "stream",
     "text": [
      "[('폐가/Noun', 0.9669278264045715),\n",
      " ('열풍/Noun', 0.9644622206687927),\n",
      " ('코인/Noun', 0.9607704877853394),\n",
      " ('블레스/Noun', 0.9477730989456177),\n",
      " ('이커머스/Noun', 0.9293212294578552),\n",
      " ('화폐/Noun', 0.9288266897201538),\n",
      " ('브리지/Noun', 0.9285892844200134),\n",
      " ('가상화/Noun', 0.9283761978149414),\n",
      " ('리트윗/Noun', 0.926600456237793),\n",
      " ('채굴/Noun', 0.9166446924209595)]\n"
     ]
    },
    {
     "name": "stderr",
     "output_type": "stream",
     "text": [
      "/home/hufs/anaconda3/lib/python3.6/site-packages/ipykernel_launcher.py:2: DeprecationWarning: Call to deprecated `most_similar` (Method will be removed in 4.0.0, use self.wv.most_similar() instead).\n",
      "  \n"
     ]
    }
   ],
   "source": [
    "# 경제\n",
    "pprint (DM_model.most_similar('비트코인/Noun'))"
   ]
  },
  {
   "cell_type": "code",
   "execution_count": 11,
   "metadata": {},
   "outputs": [
    {
     "name": "stdout",
     "output_type": "stream",
     "text": [
      "[('가상화/Noun', 0.8464443683624268),\n",
      " ('라이트코인/Noun', 0.7997515201568604),\n",
      " ('화폐/Noun', 0.7900490164756775),\n",
      " ('채굴/Noun', 0.7771954536437988),\n",
      " ('리플/Noun', 0.7666321992874146),\n",
      " ('코인/Noun', 0.7592024803161621),\n",
      " ('가상/Noun', 0.7438395023345947),\n",
      " ('폐시/Noun', 0.7397187352180481),\n",
      " ('채굴량/Noun', 0.7387707829475403),\n",
      " ('폐인/Noun', 0.7378334999084473)]\n"
     ]
    },
    {
     "name": "stderr",
     "output_type": "stream",
     "text": [
      "/home/hufs/anaconda3/lib/python3.6/site-packages/ipykernel_launcher.py:2: DeprecationWarning: Call to deprecated `most_similar` (Method will be removed in 4.0.0, use self.wv.most_similar() instead).\n",
      "  \n"
     ]
    }
   ],
   "source": [
    "# 경제\n",
    "pprint (DBOW_model.most_similar('비트코인/Noun'))"
   ]
  },
  {
   "cell_type": "code",
   "execution_count": 6,
   "metadata": {},
   "outputs": [
    {
     "name": "stdout",
     "output_type": "stream",
     "text": [
      "[('중소기업청/Noun', 0.9760349988937378),\n",
      " ('회계/Noun', 0.9691288471221924),\n",
      " ('징수/Noun', 0.968834400177002),\n",
      " ('개헌안/Noun', 0.9639933705329895),\n",
      " ('불문/Noun', 0.9635773301124573),\n",
      " ('BEPS/Alpha', 0.962162971496582),\n",
      " ('취업규칙/Noun', 0.9599753618240356),\n",
      " ('자본금/Noun', 0.9591447114944458),\n",
      " ('종잣돈/Noun', 0.958960235118866),\n",
      " ('동향/Noun', 0.9572360515594482)]\n"
     ]
    },
    {
     "name": "stderr",
     "output_type": "stream",
     "text": [
      "/home/hufs/anaconda3/lib/python3.6/site-packages/ipykernel_launcher.py:2: DeprecationWarning: Call to deprecated `most_similar` (Method will be removed in 4.0.0, use self.wv.most_similar() instead).\n",
      "  \n"
     ]
    }
   ],
   "source": [
    "# 사회\n",
    "pprint (DM_model.most_similar('최저임금/Noun'))"
   ]
  },
  {
   "cell_type": "code",
   "execution_count": 12,
   "metadata": {},
   "outputs": [
    {
     "name": "stdout",
     "output_type": "stream",
     "text": [
      "[('시급/Noun', 0.7022563219070435),\n",
      " ('산입/Noun', 0.6939350366592407),\n",
      " ('하디스/Noun', 0.6734119057655334),\n",
      " ('렌시/Noun', 0.6638419032096863),\n",
      " ('김범수/Noun', 0.6636958122253418),\n",
      " ('관서/Noun', 0.6631854772567749),\n",
      " ('웬디스/Noun', 0.661303699016571),\n",
      " ('주휴수당/Noun', 0.6397265195846558),\n",
      " ('상여금/Noun', 0.6383258104324341),\n",
      " ('실직자/Noun', 0.6377780437469482)]\n"
     ]
    },
    {
     "name": "stderr",
     "output_type": "stream",
     "text": [
      "/home/hufs/anaconda3/lib/python3.6/site-packages/ipykernel_launcher.py:2: DeprecationWarning: Call to deprecated `most_similar` (Method will be removed in 4.0.0, use self.wv.most_similar() instead).\n",
      "  \n"
     ]
    }
   ],
   "source": [
    "# 사회\n",
    "pprint (DBOW_model.most_similar('최저임금/Noun'))"
   ]
  },
  {
   "cell_type": "code",
   "execution_count": 7,
   "metadata": {},
   "outputs": [
    {
     "name": "stdout",
     "output_type": "stream",
     "text": [
      "[('중국인/Noun', 0.9482355117797852),\n",
      " ('외국인/Noun', 0.9443222880363464),\n",
      " ('관광객/Noun', 0.9335228800773621),\n",
      " ('유나이티드/Noun', 0.9303364753723145),\n",
      " ('IR/Alpha', 0.9300185441970825),\n",
      " ('여행객/Noun', 0.9297430515289307),\n",
      " ('스마/Noun', 0.9275248050689697),\n",
      " ('여행자/Noun', 0.9228293299674988),\n",
      " ('기수/Noun', 0.9214423894882202),\n",
      " ('웹엠/Noun', 0.9124712347984314)]\n"
     ]
    },
    {
     "name": "stderr",
     "output_type": "stream",
     "text": [
      "/home/hufs/anaconda3/lib/python3.6/site-packages/ipykernel_launcher.py:2: DeprecationWarning: Call to deprecated `most_similar` (Method will be removed in 4.0.0, use self.wv.most_similar() instead).\n",
      "  \n"
     ]
    }
   ],
   "source": [
    "# 생활/문화\n",
    "pprint (DM_model.most_similar('여행/Noun'))"
   ]
  },
  {
   "cell_type": "code",
   "execution_count": 13,
   "metadata": {},
   "outputs": [
    {
     "name": "stdout",
     "output_type": "stream",
     "text": [
      "[('행업/Noun', 0.7480051517486572),\n",
      " ('양무승/Noun', 0.7096507549285889),\n",
      " ('자유여행/Noun', 0.708590567111969),\n",
      " ('여행객/Noun', 0.7033349275588989),\n",
      " ('해외여행/Noun', 0.7031097412109375),\n",
      " ('항공권/Noun', 0.6819339990615845),\n",
      " ('관광/Noun', 0.6781317591667175),\n",
      " ('청주공항/Noun', 0.6735849976539612),\n",
      " ('텅텅/Noun', 0.6703102588653564),\n",
      " ('태국인/Noun', 0.6696977615356445)]\n"
     ]
    },
    {
     "name": "stderr",
     "output_type": "stream",
     "text": [
      "/home/hufs/anaconda3/lib/python3.6/site-packages/ipykernel_launcher.py:2: DeprecationWarning: Call to deprecated `most_similar` (Method will be removed in 4.0.0, use self.wv.most_similar() instead).\n",
      "  \n"
     ]
    }
   ],
   "source": [
    "# 생활/문화\n",
    "pprint (DBOW_model.most_similar('여행/Noun'))"
   ]
  },
  {
   "cell_type": "code",
   "execution_count": 8,
   "metadata": {},
   "outputs": [
    {
     "name": "stdout",
     "output_type": "stream",
     "text": [
      "[('오바마/Noun', 0.9699451923370361),\n",
      " ('시각/Noun', 0.9623936414718628),\n",
      " ('도널드/Noun', 0.9621858596801758),\n",
      " ('연설/Noun', 0.9601424932479858),\n",
      " ('이방/Noun', 0.9588394165039062),\n",
      " ('비공식/Noun', 0.9573610424995422),\n",
      " ('에마뉘엘/Noun', 0.9541018605232239),\n",
      " ('로버트/Noun', 0.9530434608459473),\n",
      " ('버락/Noun', 0.9493917226791382),\n",
      " ('백악관/Noun', 0.9479184150695801)]\n"
     ]
    },
    {
     "name": "stderr",
     "output_type": "stream",
     "text": [
      "/home/hufs/anaconda3/lib/python3.6/site-packages/ipykernel_launcher.py:2: DeprecationWarning: Call to deprecated `most_similar` (Method will be removed in 4.0.0, use self.wv.most_similar() instead).\n",
      "  \n"
     ]
    }
   ],
   "source": [
    "# 세계\n",
    "pprint (DM_model.most_similar('트럼프/Noun'))"
   ]
  },
  {
   "cell_type": "code",
   "execution_count": 14,
   "metadata": {},
   "outputs": [
    {
     "name": "stdout",
     "output_type": "stream",
     "text": [
      "[('도널드/Noun', 0.863903820514679),\n",
      " ('백악관/Noun', 0.8217428922653198),\n",
      " ('심인성/Noun', 0.7752120494842529),\n",
      " ('에어포스원/Noun', 0.7518690824508667),\n",
      " ('대통령/Noun', 0.7435125112533569),\n",
      " ('북미자유무역협정/Noun', 0.7304463386535645),\n",
      " ('환대/Noun', 0.7300409078598022),\n",
      " ('워싱턴/Noun', 0.7250632643699646),\n",
      " ('토닥이다/Verb', 0.7247316241264343),\n",
      " ('NAFTA/Alpha', 0.721252977848053)]\n"
     ]
    },
    {
     "name": "stderr",
     "output_type": "stream",
     "text": [
      "/home/hufs/anaconda3/lib/python3.6/site-packages/ipykernel_launcher.py:2: DeprecationWarning: Call to deprecated `most_similar` (Method will be removed in 4.0.0, use self.wv.most_similar() instead).\n",
      "  \n"
     ]
    }
   ],
   "source": [
    "# 세계\n",
    "pprint (DBOW_model.most_similar('트럼프/Noun'))"
   ]
  },
  {
   "cell_type": "code",
   "execution_count": 9,
   "metadata": {
    "scrolled": false
   },
   "outputs": [
    {
     "name": "stdout",
     "output_type": "stream",
     "text": [
      "[('메모리/Noun', 0.98338383436203),\n",
      " ('칩셋/Noun', 0.9810512065887451),\n",
      " ('웹브라우저/Noun', 0.9718846082687378),\n",
      " ('하만/Noun', 0.9713388085365295),\n",
      " ('낸드/Noun', 0.9705882668495178),\n",
      " ('HMD/Alpha', 0.9699307084083557),\n",
      " ('차기작/Noun', 0.9686083793640137),\n",
      " ('사치품/Noun', 0.9676061272621155),\n",
      " ('컨설턴트/Noun', 0.9669433832168579),\n",
      " ('플래시/Noun', 0.9651967287063599)]\n"
     ]
    },
    {
     "name": "stderr",
     "output_type": "stream",
     "text": [
      "/home/hufs/anaconda3/lib/python3.6/site-packages/ipykernel_launcher.py:2: DeprecationWarning: Call to deprecated `most_similar` (Method will be removed in 4.0.0, use self.wv.most_similar() instead).\n",
      "  \n"
     ]
    }
   ],
   "source": [
    "# IT/과학\n",
    "pprint (DM_model.most_similar('애플/Noun'))"
   ]
  },
  {
   "cell_type": "code",
   "execution_count": 15,
   "metadata": {
    "scrolled": false
   },
   "outputs": [
    {
     "name": "stdout",
     "output_type": "stream",
     "text": [
      "[('아이폰/Noun', 0.8841164708137512),\n",
      " ('스마트폰/Noun', 0.7730638980865479),\n",
      " ('BI/Alpha', 0.7690280079841614),\n",
      " ('더버/Noun', 0.7684022188186646),\n",
      " ('이은정/Noun', 0.7553976774215698),\n",
      " ('레노버/Noun', 0.7389521598815918),\n",
      " ('폰/Noun', 0.7375159859657288),\n",
      " ('워즈니악/Noun', 0.7351125478744507),\n",
      " ('갤럭시/Noun', 0.7320610284805298),\n",
      " ('X/Alpha', 0.7308057546615601)]\n"
     ]
    },
    {
     "name": "stderr",
     "output_type": "stream",
     "text": [
      "/home/hufs/anaconda3/lib/python3.6/site-packages/ipykernel_launcher.py:2: DeprecationWarning: Call to deprecated `most_similar` (Method will be removed in 4.0.0, use self.wv.most_similar() instead).\n",
      "  \n"
     ]
    }
   ],
   "source": [
    "# IT/과학\n",
    "pprint (DBOW_model.most_similar('애플/Noun'))"
   ]
  },
  {
   "cell_type": "markdown",
   "metadata": {},
   "source": [
    "### DBOW의 word-embedding 결과가 더 좋은 것으로 보임"
   ]
  },
  {
   "cell_type": "code",
   "execution_count": null,
   "metadata": {
    "collapsed": true
   },
   "outputs": [],
   "source": []
  }
 ],
 "metadata": {
  "kernelspec": {
   "display_name": "Python 3",
   "language": "python",
   "name": "python3"
  },
  "language_info": {
   "codemirror_mode": {
    "name": "ipython",
    "version": 3
   },
   "file_extension": ".py",
   "mimetype": "text/x-python",
   "name": "python",
   "nbconvert_exporter": "python",
   "pygments_lexer": "ipython3",
   "version": "3.6.3"
  }
 },
 "nbformat": 4,
 "nbformat_minor": 2
}
